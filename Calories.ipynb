{
 "cells": [
  {
   "cell_type": "code",
   "execution_count": 1,
   "metadata": {},
   "outputs": [],
   "source": [
    "import pandas as pd\n",
    "import xmltodict\n",
    "input_path = './data/apple_health_export/export.xml'\n",
    "\n",
    "with open(input_path, 'r') as xml_file:\n",
    "    input_data = xmltodict.parse(xml_file.read())\n",
    "    \n"
   ]
  },
  {
   "cell_type": "code",
   "execution_count": 2,
   "metadata": {},
   "outputs": [],
   "source": [
    "records_list = input_data['HealthData']['Record']"
   ]
  },
  {
   "cell_type": "code",
   "execution_count": 3,
   "metadata": {},
   "outputs": [],
   "source": [
    "df = pd.DataFrame(records_list)"
   ]
  },
  {
   "cell_type": "code",
   "execution_count": 4,
   "metadata": {},
   "outputs": [
    {
     "data": {
      "text/plain": [
       "Index(['@type', '@sourceName', '@sourceVersion', '@unit', '@creationDate',\n",
       "       '@startDate', '@endDate', '@value', 'MetadataEntry', '@device',\n",
       "       'HeartRateVariabilityMetadataList'],\n",
       "      dtype='object')"
      ]
     },
     "execution_count": 4,
     "metadata": {},
     "output_type": "execute_result"
    }
   ],
   "source": [
    "df.columns"
   ]
  },
  {
   "cell_type": "code",
   "execution_count": 5,
   "metadata": {},
   "outputs": [
    {
     "data": {
      "text/plain": [
       "array(['HKQuantityTypeIdentifierHeight',\n",
       "       'HKQuantityTypeIdentifierBodyMass',\n",
       "       'HKQuantityTypeIdentifierHeartRate',\n",
       "       'HKQuantityTypeIdentifierStepCount',\n",
       "       'HKQuantityTypeIdentifierDistanceWalkingRunning',\n",
       "       'HKQuantityTypeIdentifierBasalEnergyBurned',\n",
       "       'HKQuantityTypeIdentifierActiveEnergyBurned',\n",
       "       'HKQuantityTypeIdentifierFlightsClimbed',\n",
       "       'HKQuantityTypeIdentifierAppleExerciseTime',\n",
       "       'HKQuantityTypeIdentifierDistanceCycling',\n",
       "       'HKQuantityTypeIdentifierRestingHeartRate',\n",
       "       'HKQuantityTypeIdentifierWalkingHeartRateAverage',\n",
       "       'HKQuantityTypeIdentifierEnvironmentalAudioExposure',\n",
       "       'HKQuantityTypeIdentifierHeadphoneAudioExposure',\n",
       "       'HKQuantityTypeIdentifierWalkingDoubleSupportPercentage',\n",
       "       'HKQuantityTypeIdentifierAppleStandTime',\n",
       "       'HKQuantityTypeIdentifierWalkingSpeed',\n",
       "       'HKQuantityTypeIdentifierWalkingStepLength',\n",
       "       'HKQuantityTypeIdentifierWalkingAsymmetryPercentage',\n",
       "       'HKQuantityTypeIdentifierStairAscentSpeed',\n",
       "       'HKQuantityTypeIdentifierStairDescentSpeed',\n",
       "       'HKDataTypeSleepDurationGoal',\n",
       "       'HKCategoryTypeIdentifierSleepAnalysis',\n",
       "       'HKCategoryTypeIdentifierAppleStandHour',\n",
       "       'HKQuantityTypeIdentifierHeartRateVariabilitySDNN'], dtype=object)"
      ]
     },
     "execution_count": 5,
     "metadata": {},
     "output_type": "execute_result"
    }
   ],
   "source": [
    "df['@type'].unique()"
   ]
  },
  {
   "cell_type": "code",
   "execution_count": 38,
   "metadata": {},
   "outputs": [],
   "source": [
    "calories_combined = df[(df['@type'] == 'HKQuantityTypeIdentifierBasalEnergyBurned') | (df['@type'] == 'HKQuantityTypeIdentifierActiveEnergyBurned')]\n",
    "format = '%Y-%m-%d %H:%M:%S %z'\n",
    "df['@creationDate'] = pd.to_datetime(df['@creationDate'],\n",
    "                                     format=format)\n",
    "df['@startDate'] = pd.to_datetime(df['@startDate'],\n",
    "                                  format=format)\n",
    "df['@endDate'] = pd.to_datetime(df['@endDate'],\n",
    "                                format=format)\n",
    "df['@creationDateOnly'] = df['@creationDate'].dt.date"
   ]
  },
  {
   "cell_type": "code",
   "execution_count": 39,
   "metadata": {},
   "outputs": [],
   "source": [
    "calories_basal = df[(df['@type'] == 'HKQuantityTypeIdentifierBasalEnergyBurned')]\n",
    "format = '%Y-%m-%d %H:%M:%S %z'\n",
    "df['@creationDate'] = pd.to_datetime(df['@creationDate'],\n",
    "                                     format=format)\n",
    "df['@startDate'] = pd.to_datetime(df['@startDate'],\n",
    "                                  format=format)\n",
    "df['@endDate'] = pd.to_datetime(df['@endDate'],\n",
    "                                format=format)\n",
    "df['@creationDateOnly'] = df['@creationDate'].dt.date"
   ]
  },
  {
   "cell_type": "code",
   "execution_count": 40,
   "metadata": {},
   "outputs": [],
   "source": [
    "calories_active = df[(df['@type'] == 'HKQuantityTypeIdentifierActiveEnergyBurned')]\n",
    "format = '%Y-%m-%d %H:%M:%S %z'\n",
    "df['@creationDate'] = pd.to_datetime(df['@creationDate'],\n",
    "                                     format=format)\n",
    "df['@startDate'] = pd.to_datetime(df['@startDate'],\n",
    "                                  format=format)\n",
    "df['@endDate'] = pd.to_datetime(df['@endDate'],\n",
    "                                format=format)\n",
    "df['@creationDateOnly'] = df['@creationDate'].dt.date"
   ]
  },
  {
   "cell_type": "code",
   "execution_count": 41,
   "metadata": {},
   "outputs": [],
   "source": [
    "calories_combined.loc[:, '@value'] = pd.to_numeric(\n",
    "    calories_combined.loc[:, '@value'])\n",
    "calories_basal.loc[:, '@value'] = pd.to_numeric(\n",
    "    calories_basal.loc[:, '@value'])\n",
    "calories_active.loc[:, '@value'] = pd.to_numeric(\n",
    "    calories_active.loc[:, '@value'])"
   ]
  },
  {
   "cell_type": "code",
   "execution_count": 42,
   "metadata": {},
   "outputs": [
    {
     "data": {
      "text/plain": [
       "@type                                                               object\n",
       "@sourceName                                                         object\n",
       "@sourceVersion                                                      object\n",
       "@unit                                                               object\n",
       "@creationDate                       datetime64[ns, pytz.FixedOffset(-240)]\n",
       "@startDate                          datetime64[ns, pytz.FixedOffset(-240)]\n",
       "@endDate                            datetime64[ns, pytz.FixedOffset(-240)]\n",
       "@value                                                             float64\n",
       "MetadataEntry                                                       object\n",
       "@device                                                             object\n",
       "HeartRateVariabilityMetadataList                                    object\n",
       "@creationDateOnly                                                   object\n",
       "dtype: object"
      ]
     },
     "execution_count": 42,
     "metadata": {},
     "output_type": "execute_result"
    }
   ],
   "source": [
    "#calories_combined.dtypes\n",
    "#calories_basal.dtypes\n",
    "#calories_active.dtypes"
   ]
  },
  {
   "cell_type": "code",
   "execution_count": 43,
   "metadata": {},
   "outputs": [],
   "source": [
    "#calories_combined.columns\n",
    "#calories_basal.columns\n",
    "#calories_active.columns"
   ]
  },
  {
   "cell_type": "code",
   "execution_count": 44,
   "metadata": {},
   "outputs": [],
   "source": [
    "#calories['@sourceName'].unique()"
   ]
  },
  {
   "cell_type": "code",
   "execution_count": 45,
   "metadata": {},
   "outputs": [],
   "source": [
    "calories_combined_by_creation = calories_combined.groupby('@creationDate').sum()\n",
    "calories_basal_by_creation = calories_basal.groupby('@creationDate').sum()\n",
    "calories_active_by_creation = calories_active.groupby('@creationDate').sum()"
   ]
  },
  {
   "cell_type": "code",
   "execution_count": 46,
   "metadata": {},
   "outputs": [],
   "source": [
    "#calories_mean_by_creation = calories.groupby('@creationDateOnly').mean()\n",
    "#calories_sum_by_creation = calories.groupby('@creationDateOnly').sum()"
   ]
  },
  {
   "cell_type": "code",
   "execution_count": 47,
   "metadata": {},
   "outputs": [],
   "source": [
    "#calories_counts = calories_sum_by_creation.divide(calories_mean_by_creation)\n",
    "#calories_counts"
   ]
  },
  {
   "cell_type": "code",
   "execution_count": 48,
   "metadata": {},
   "outputs": [
    {
     "data": {
      "text/html": [
       "<div>\n",
       "<style scoped>\n",
       "    .dataframe tbody tr th:only-of-type {\n",
       "        vertical-align: middle;\n",
       "    }\n",
       "\n",
       "    .dataframe tbody tr th {\n",
       "        vertical-align: top;\n",
       "    }\n",
       "\n",
       "    .dataframe thead th {\n",
       "        text-align: right;\n",
       "    }\n",
       "</style>\n",
       "<table border=\"1\" class=\"dataframe\">\n",
       "  <thead>\n",
       "    <tr style=\"text-align: right;\">\n",
       "      <th></th>\n",
       "      <th>@value</th>\n",
       "    </tr>\n",
       "    <tr>\n",
       "      <th>@creationDate</th>\n",
       "      <th></th>\n",
       "    </tr>\n",
       "  </thead>\n",
       "  <tbody>\n",
       "    <tr>\n",
       "      <th>2020-02-13 00:00:00-04:00</th>\n",
       "      <td>111.338</td>\n",
       "    </tr>\n",
       "    <tr>\n",
       "      <th>2020-02-14 00:00:00-04:00</th>\n",
       "      <td>2162.724</td>\n",
       "    </tr>\n",
       "    <tr>\n",
       "      <th>2020-02-15 00:00:00-04:00</th>\n",
       "      <td>1946.775</td>\n",
       "    </tr>\n",
       "    <tr>\n",
       "      <th>2020-02-16 00:00:00-04:00</th>\n",
       "      <td>2178.575</td>\n",
       "    </tr>\n",
       "    <tr>\n",
       "      <th>2020-02-17 00:00:00-04:00</th>\n",
       "      <td>2188.556</td>\n",
       "    </tr>\n",
       "    <tr>\n",
       "      <th>...</th>\n",
       "      <td>...</td>\n",
       "    </tr>\n",
       "    <tr>\n",
       "      <th>2020-09-27 00:00:00-04:00</th>\n",
       "      <td>1902.127</td>\n",
       "    </tr>\n",
       "    <tr>\n",
       "      <th>2020-09-28 00:00:00-04:00</th>\n",
       "      <td>4131.958</td>\n",
       "    </tr>\n",
       "    <tr>\n",
       "      <th>2020-09-29 00:00:00-04:00</th>\n",
       "      <td>2763.664</td>\n",
       "    </tr>\n",
       "    <tr>\n",
       "      <th>2020-09-30 00:00:00-04:00</th>\n",
       "      <td>1885.738</td>\n",
       "    </tr>\n",
       "    <tr>\n",
       "      <th>2020-10-01 00:00:00-04:00</th>\n",
       "      <td>3254.486</td>\n",
       "    </tr>\n",
       "  </tbody>\n",
       "</table>\n",
       "<p>232 rows × 1 columns</p>\n",
       "</div>"
      ],
      "text/plain": [
       "                             @value\n",
       "@creationDate                      \n",
       "2020-02-13 00:00:00-04:00   111.338\n",
       "2020-02-14 00:00:00-04:00  2162.724\n",
       "2020-02-15 00:00:00-04:00  1946.775\n",
       "2020-02-16 00:00:00-04:00  2178.575\n",
       "2020-02-17 00:00:00-04:00  2188.556\n",
       "...                             ...\n",
       "2020-09-27 00:00:00-04:00  1902.127\n",
       "2020-09-28 00:00:00-04:00  4131.958\n",
       "2020-09-29 00:00:00-04:00  2763.664\n",
       "2020-09-30 00:00:00-04:00  1885.738\n",
       "2020-10-01 00:00:00-04:00  3254.486\n",
       "\n",
       "[232 rows x 1 columns]"
      ]
     },
     "execution_count": 48,
     "metadata": {},
     "output_type": "execute_result"
    }
   ],
   "source": [
    "calories_combined_per_day = calories_combined_by_creation.resample('d').sum()\n",
    "calories_combined_per_day"
   ]
  },
  {
   "cell_type": "code",
   "execution_count": 49,
   "metadata": {},
   "outputs": [
    {
     "data": {
      "text/html": [
       "<div>\n",
       "<style scoped>\n",
       "    .dataframe tbody tr th:only-of-type {\n",
       "        vertical-align: middle;\n",
       "    }\n",
       "\n",
       "    .dataframe tbody tr th {\n",
       "        vertical-align: top;\n",
       "    }\n",
       "\n",
       "    .dataframe thead th {\n",
       "        text-align: right;\n",
       "    }\n",
       "</style>\n",
       "<table border=\"1\" class=\"dataframe\">\n",
       "  <thead>\n",
       "    <tr style=\"text-align: right;\">\n",
       "      <th></th>\n",
       "      <th>@value</th>\n",
       "    </tr>\n",
       "    <tr>\n",
       "      <th>@creationDate</th>\n",
       "      <th></th>\n",
       "    </tr>\n",
       "  </thead>\n",
       "  <tbody>\n",
       "    <tr>\n",
       "      <th>2020-02-13 00:00:00-04:00</th>\n",
       "      <td>100.779</td>\n",
       "    </tr>\n",
       "    <tr>\n",
       "      <th>2020-02-14 00:00:00-04:00</th>\n",
       "      <td>1650.436</td>\n",
       "    </tr>\n",
       "    <tr>\n",
       "      <th>2020-02-15 00:00:00-04:00</th>\n",
       "      <td>1694.507</td>\n",
       "    </tr>\n",
       "    <tr>\n",
       "      <th>2020-02-16 00:00:00-04:00</th>\n",
       "      <td>1698.928</td>\n",
       "    </tr>\n",
       "    <tr>\n",
       "      <th>2020-02-17 00:00:00-04:00</th>\n",
       "      <td>1672.763</td>\n",
       "    </tr>\n",
       "    <tr>\n",
       "      <th>...</th>\n",
       "      <td>...</td>\n",
       "    </tr>\n",
       "    <tr>\n",
       "      <th>2020-09-27 00:00:00-04:00</th>\n",
       "      <td>1678.241</td>\n",
       "    </tr>\n",
       "    <tr>\n",
       "      <th>2020-09-28 00:00:00-04:00</th>\n",
       "      <td>1844.789</td>\n",
       "    </tr>\n",
       "    <tr>\n",
       "      <th>2020-09-29 00:00:00-04:00</th>\n",
       "      <td>1783.994</td>\n",
       "    </tr>\n",
       "    <tr>\n",
       "      <th>2020-09-30 00:00:00-04:00</th>\n",
       "      <td>1679.128</td>\n",
       "    </tr>\n",
       "    <tr>\n",
       "      <th>2020-10-01 00:00:00-04:00</th>\n",
       "      <td>1639.810</td>\n",
       "    </tr>\n",
       "  </tbody>\n",
       "</table>\n",
       "<p>232 rows × 1 columns</p>\n",
       "</div>"
      ],
      "text/plain": [
       "                             @value\n",
       "@creationDate                      \n",
       "2020-02-13 00:00:00-04:00   100.779\n",
       "2020-02-14 00:00:00-04:00  1650.436\n",
       "2020-02-15 00:00:00-04:00  1694.507\n",
       "2020-02-16 00:00:00-04:00  1698.928\n",
       "2020-02-17 00:00:00-04:00  1672.763\n",
       "...                             ...\n",
       "2020-09-27 00:00:00-04:00  1678.241\n",
       "2020-09-28 00:00:00-04:00  1844.789\n",
       "2020-09-29 00:00:00-04:00  1783.994\n",
       "2020-09-30 00:00:00-04:00  1679.128\n",
       "2020-10-01 00:00:00-04:00  1639.810\n",
       "\n",
       "[232 rows x 1 columns]"
      ]
     },
     "execution_count": 49,
     "metadata": {},
     "output_type": "execute_result"
    }
   ],
   "source": [
    "calories_basal_per_day = calories_basal_by_creation.resample('d').sum()\n",
    "calories_basal_per_day"
   ]
  },
  {
   "cell_type": "code",
   "execution_count": 50,
   "metadata": {},
   "outputs": [
    {
     "data": {
      "text/html": [
       "<div>\n",
       "<style scoped>\n",
       "    .dataframe tbody tr th:only-of-type {\n",
       "        vertical-align: middle;\n",
       "    }\n",
       "\n",
       "    .dataframe tbody tr th {\n",
       "        vertical-align: top;\n",
       "    }\n",
       "\n",
       "    .dataframe thead th {\n",
       "        text-align: right;\n",
       "    }\n",
       "</style>\n",
       "<table border=\"1\" class=\"dataframe\">\n",
       "  <thead>\n",
       "    <tr style=\"text-align: right;\">\n",
       "      <th></th>\n",
       "      <th>@value</th>\n",
       "    </tr>\n",
       "    <tr>\n",
       "      <th>@creationDate</th>\n",
       "      <th></th>\n",
       "    </tr>\n",
       "  </thead>\n",
       "  <tbody>\n",
       "    <tr>\n",
       "      <th>2020-02-13 00:00:00-04:00</th>\n",
       "      <td>10.559</td>\n",
       "    </tr>\n",
       "    <tr>\n",
       "      <th>2020-02-14 00:00:00-04:00</th>\n",
       "      <td>512.288</td>\n",
       "    </tr>\n",
       "    <tr>\n",
       "      <th>2020-02-15 00:00:00-04:00</th>\n",
       "      <td>252.268</td>\n",
       "    </tr>\n",
       "    <tr>\n",
       "      <th>2020-02-16 00:00:00-04:00</th>\n",
       "      <td>479.647</td>\n",
       "    </tr>\n",
       "    <tr>\n",
       "      <th>2020-02-17 00:00:00-04:00</th>\n",
       "      <td>515.793</td>\n",
       "    </tr>\n",
       "    <tr>\n",
       "      <th>...</th>\n",
       "      <td>...</td>\n",
       "    </tr>\n",
       "    <tr>\n",
       "      <th>2020-09-27 00:00:00-04:00</th>\n",
       "      <td>223.886</td>\n",
       "    </tr>\n",
       "    <tr>\n",
       "      <th>2020-09-28 00:00:00-04:00</th>\n",
       "      <td>2287.169</td>\n",
       "    </tr>\n",
       "    <tr>\n",
       "      <th>2020-09-29 00:00:00-04:00</th>\n",
       "      <td>979.670</td>\n",
       "    </tr>\n",
       "    <tr>\n",
       "      <th>2020-09-30 00:00:00-04:00</th>\n",
       "      <td>206.610</td>\n",
       "    </tr>\n",
       "    <tr>\n",
       "      <th>2020-10-01 00:00:00-04:00</th>\n",
       "      <td>1614.676</td>\n",
       "    </tr>\n",
       "  </tbody>\n",
       "</table>\n",
       "<p>232 rows × 1 columns</p>\n",
       "</div>"
      ],
      "text/plain": [
       "                             @value\n",
       "@creationDate                      \n",
       "2020-02-13 00:00:00-04:00    10.559\n",
       "2020-02-14 00:00:00-04:00   512.288\n",
       "2020-02-15 00:00:00-04:00   252.268\n",
       "2020-02-16 00:00:00-04:00   479.647\n",
       "2020-02-17 00:00:00-04:00   515.793\n",
       "...                             ...\n",
       "2020-09-27 00:00:00-04:00   223.886\n",
       "2020-09-28 00:00:00-04:00  2287.169\n",
       "2020-09-29 00:00:00-04:00   979.670\n",
       "2020-09-30 00:00:00-04:00   206.610\n",
       "2020-10-01 00:00:00-04:00  1614.676\n",
       "\n",
       "[232 rows x 1 columns]"
      ]
     },
     "execution_count": 50,
     "metadata": {},
     "output_type": "execute_result"
    }
   ],
   "source": [
    "calories_active_per_day = calories_active_by_creation.resample('d').sum()\n",
    "calories_active_per_day"
   ]
  },
  {
   "cell_type": "code",
   "execution_count": null,
   "metadata": {},
   "outputs": [],
   "source": []
  }
 ],
 "metadata": {
  "kernelspec": {
   "display_name": "Python 3",
   "language": "python",
   "name": "python3"
  },
  "language_info": {
   "codemirror_mode": {
    "name": "ipython",
    "version": 3
   },
   "file_extension": ".py",
   "mimetype": "text/x-python",
   "name": "python",
   "nbconvert_exporter": "python",
   "pygments_lexer": "ipython3",
   "version": "3.8.6"
  }
 },
 "nbformat": 4,
 "nbformat_minor": 4
}
