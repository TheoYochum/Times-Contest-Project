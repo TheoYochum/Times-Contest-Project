{
 "cells": [
  {
   "cell_type": "code",
   "execution_count": 1,
   "metadata": {},
   "outputs": [],
   "source": [
    "import pandas as pd\n",
    "import xmltodict\n",
    "input_path = './data/apple_health_export/export.xml'\n",
    "\n",
    "with open(input_path, 'r') as xml_file:\n",
    "    input_data = xmltodict.parse(xml_file.read())\n",
    "    \n"
   ]
  },
  {
   "cell_type": "code",
   "execution_count": 2,
   "metadata": {},
   "outputs": [],
   "source": [
    "records_list = input_data['HealthData']['Record']"
   ]
  },
  {
   "cell_type": "code",
   "execution_count": 3,
   "metadata": {},
   "outputs": [],
   "source": [
    "df = pd.DataFrame(records_list)"
   ]
  },
  {
   "cell_type": "code",
   "execution_count": 4,
   "metadata": {},
   "outputs": [
    {
     "data": {
      "text/plain": [
       "Index(['@type', '@sourceName', '@sourceVersion', '@unit', '@creationDate',\n",
       "       '@startDate', '@endDate', '@value', 'MetadataEntry', '@device',\n",
       "       'HeartRateVariabilityMetadataList'],\n",
       "      dtype='object')"
      ]
     },
     "execution_count": 4,
     "metadata": {},
     "output_type": "execute_result"
    }
   ],
   "source": [
    "df.columns"
   ]
  },
  {
   "cell_type": "code",
   "execution_count": 5,
   "metadata": {},
   "outputs": [
    {
     "data": {
      "text/plain": [
       "array(['HKQuantityTypeIdentifierHeight',\n",
       "       'HKQuantityTypeIdentifierBodyMass',\n",
       "       'HKQuantityTypeIdentifierHeartRate',\n",
       "       'HKQuantityTypeIdentifierStepCount',\n",
       "       'HKQuantityTypeIdentifierDistanceWalkingRunning',\n",
       "       'HKQuantityTypeIdentifierBasalEnergyBurned',\n",
       "       'HKQuantityTypeIdentifierActiveEnergyBurned',\n",
       "       'HKQuantityTypeIdentifierFlightsClimbed',\n",
       "       'HKQuantityTypeIdentifierAppleExerciseTime',\n",
       "       'HKQuantityTypeIdentifierDistanceCycling',\n",
       "       'HKQuantityTypeIdentifierRestingHeartRate',\n",
       "       'HKQuantityTypeIdentifierWalkingHeartRateAverage',\n",
       "       'HKQuantityTypeIdentifierEnvironmentalAudioExposure',\n",
       "       'HKQuantityTypeIdentifierHeadphoneAudioExposure',\n",
       "       'HKQuantityTypeIdentifierWalkingDoubleSupportPercentage',\n",
       "       'HKQuantityTypeIdentifierAppleStandTime',\n",
       "       'HKQuantityTypeIdentifierWalkingSpeed',\n",
       "       'HKQuantityTypeIdentifierWalkingStepLength',\n",
       "       'HKQuantityTypeIdentifierWalkingAsymmetryPercentage',\n",
       "       'HKQuantityTypeIdentifierStairAscentSpeed',\n",
       "       'HKQuantityTypeIdentifierStairDescentSpeed',\n",
       "       'HKDataTypeSleepDurationGoal',\n",
       "       'HKCategoryTypeIdentifierSleepAnalysis',\n",
       "       'HKCategoryTypeIdentifierAppleStandHour',\n",
       "       'HKQuantityTypeIdentifierHeartRateVariabilitySDNN'], dtype=object)"
      ]
     },
     "execution_count": 5,
     "metadata": {},
     "output_type": "execute_result"
    }
   ],
   "source": [
    "df['@type'].unique()"
   ]
  },
  {
   "cell_type": "code",
   "execution_count": 14,
   "metadata": {},
   "outputs": [],
   "source": [
    "\n",
    "format = '%Y-%m-%d %H:%M:%S %z'\n",
    "df['@creationDate'] = pd.to_datetime(df['@creationDate'],\n",
    "                                     format=format)\n",
    "df['@creationDateOnly'] = df['@creationDate'].dt.date\n",
    "df['@startDate'] = pd.to_datetime(df['@startDate'],\n",
    "                                  format=format)\n",
    "df['@endDate'] = pd.to_datetime(df['@endDate'],\n",
    "                                format=format)\n",
    "df['@startDateOnly'] = df['@startDate'].dt.date\n",
    "\n",
    "df = df[df['@startDateOnly'] > pd.to_datetime('2020-03-9')]\n",
    "sleepduration = df[(df['@type'] == 'HKCategoryTypeIdentifierSleepAnalysis')]"
   ]
  },
  {
   "cell_type": "code",
   "execution_count": 8,
   "metadata": {},
   "outputs": [
    {
     "ename": "ValueError",
     "evalue": "Unable to parse string \"HKCategoryValueSleepAnalysisInBed\" at position 0",
     "output_type": "error",
     "traceback": [
      "\u001b[1;31m---------------------------------------------------------------------------\u001b[0m",
      "\u001b[1;31mValueError\u001b[0m                                Traceback (most recent call last)",
      "\u001b[1;32mpandas\\_libs\\lib.pyx\u001b[0m in \u001b[0;36mpandas._libs.lib.maybe_convert_numeric\u001b[1;34m()\u001b[0m\n",
      "\u001b[1;31mValueError\u001b[0m: Unable to parse string \"HKCategoryValueSleepAnalysisInBed\"",
      "\nDuring handling of the above exception, another exception occurred:\n",
      "\u001b[1;31mValueError\u001b[0m                                Traceback (most recent call last)",
      "\u001b[1;32m<ipython-input-8-f9035f7f7084>\u001b[0m in \u001b[0;36m<module>\u001b[1;34m\u001b[0m\n\u001b[1;32m----> 1\u001b[1;33m sleepduration.loc[:, '@value'] = pd.to_numeric(\n\u001b[0m\u001b[0;32m      2\u001b[0m     sleepduration.loc[:, '@value'])\n",
      "\u001b[1;32mc:\\users\\theoy\\appdata\\local\\programs\\python\\python38\\lib\\site-packages\\pandas\\core\\tools\\numeric.py\u001b[0m in \u001b[0;36mto_numeric\u001b[1;34m(arg, errors, downcast)\u001b[0m\n\u001b[0;32m    150\u001b[0m         \u001b[0mcoerce_numeric\u001b[0m \u001b[1;33m=\u001b[0m \u001b[0merrors\u001b[0m \u001b[1;32mnot\u001b[0m \u001b[1;32min\u001b[0m \u001b[1;33m(\u001b[0m\u001b[1;34m\"ignore\"\u001b[0m\u001b[1;33m,\u001b[0m \u001b[1;34m\"raise\"\u001b[0m\u001b[1;33m)\u001b[0m\u001b[1;33m\u001b[0m\u001b[1;33m\u001b[0m\u001b[0m\n\u001b[0;32m    151\u001b[0m         \u001b[1;32mtry\u001b[0m\u001b[1;33m:\u001b[0m\u001b[1;33m\u001b[0m\u001b[1;33m\u001b[0m\u001b[0m\n\u001b[1;32m--> 152\u001b[1;33m             values = lib.maybe_convert_numeric(\n\u001b[0m\u001b[0;32m    153\u001b[0m                 \u001b[0mvalues\u001b[0m\u001b[1;33m,\u001b[0m \u001b[0mset\u001b[0m\u001b[1;33m(\u001b[0m\u001b[1;33m)\u001b[0m\u001b[1;33m,\u001b[0m \u001b[0mcoerce_numeric\u001b[0m\u001b[1;33m=\u001b[0m\u001b[0mcoerce_numeric\u001b[0m\u001b[1;33m\u001b[0m\u001b[1;33m\u001b[0m\u001b[0m\n\u001b[0;32m    154\u001b[0m             )\n",
      "\u001b[1;32mpandas\\_libs\\lib.pyx\u001b[0m in \u001b[0;36mpandas._libs.lib.maybe_convert_numeric\u001b[1;34m()\u001b[0m\n",
      "\u001b[1;31mValueError\u001b[0m: Unable to parse string \"HKCategoryValueSleepAnalysisInBed\" at position 0"
     ]
    }
   ],
   "source": [
    "#sleepduration.loc[:, '@value'] = pd.to_numeric(\n",
    "   # sleepduration.loc[:, '@value'])"
   ]
  },
  {
   "cell_type": "code",
   "execution_count": 15,
   "metadata": {},
   "outputs": [
    {
     "data": {
      "text/plain": [
       "@type                                                               object\n",
       "@sourceName                                                         object\n",
       "@sourceVersion                                                      object\n",
       "@unit                                                               object\n",
       "@creationDate                       datetime64[ns, pytz.FixedOffset(-240)]\n",
       "@startDate                          datetime64[ns, pytz.FixedOffset(-240)]\n",
       "@endDate                            datetime64[ns, pytz.FixedOffset(-240)]\n",
       "@value                                                              object\n",
       "MetadataEntry                                                       object\n",
       "@device                                                             object\n",
       "HeartRateVariabilityMetadataList                                    object\n",
       "@creationDateOnly                                                   object\n",
       "@startDateOnly                                                      object\n",
       "dtype: object"
      ]
     },
     "execution_count": 15,
     "metadata": {},
     "output_type": "execute_result"
    }
   ],
   "source": [
    "sleepduration.dtypes"
   ]
  },
  {
   "cell_type": "code",
   "execution_count": 16,
   "metadata": {},
   "outputs": [],
   "source": [
    "#sleepduration_by_start = sleepduration.groupby('@startDateOnly').sum()"
   ]
  },
  {
   "cell_type": "code",
   "execution_count": 19,
   "metadata": {},
   "outputs": [
    {
     "data": {
      "text/html": [
       "<div>\n",
       "<style scoped>\n",
       "    .dataframe tbody tr th:only-of-type {\n",
       "        vertical-align: middle;\n",
       "    }\n",
       "\n",
       "    .dataframe tbody tr th {\n",
       "        vertical-align: top;\n",
       "    }\n",
       "\n",
       "    .dataframe thead th {\n",
       "        text-align: right;\n",
       "    }\n",
       "</style>\n",
       "<table border=\"1\" class=\"dataframe\">\n",
       "  <thead>\n",
       "    <tr style=\"text-align: right;\">\n",
       "      <th></th>\n",
       "      <th>@type</th>\n",
       "      <th>@sourceName</th>\n",
       "      <th>@sourceVersion</th>\n",
       "      <th>@unit</th>\n",
       "      <th>@creationDate</th>\n",
       "      <th>@startDate</th>\n",
       "      <th>@endDate</th>\n",
       "      <th>@value</th>\n",
       "      <th>MetadataEntry</th>\n",
       "      <th>@device</th>\n",
       "      <th>HeartRateVariabilityMetadataList</th>\n",
       "      <th>@creationDateOnly</th>\n",
       "      <th>@startDateOnly</th>\n",
       "    </tr>\n",
       "  </thead>\n",
       "  <tbody>\n",
       "    <tr>\n",
       "      <th>849386</th>\n",
       "      <td>HKCategoryTypeIdentifierSleepAnalysis</td>\n",
       "      <td>AutoSleep</td>\n",
       "      <td>6.3.7</td>\n",
       "      <td>NaN</td>\n",
       "      <td>2020-03-10 12:33:13-04:00</td>\n",
       "      <td>2020-03-10 05:30:00-04:00</td>\n",
       "      <td>2020-03-10 06:00:00-04:00</td>\n",
       "      <td>HKCategoryValueSleepAnalysisAsleep</td>\n",
       "      <td>NaN</td>\n",
       "      <td>NaN</td>\n",
       "      <td>NaN</td>\n",
       "      <td>2020-03-10</td>\n",
       "      <td>2020-03-10</td>\n",
       "    </tr>\n",
       "    <tr>\n",
       "      <th>849389</th>\n",
       "      <td>HKCategoryTypeIdentifierSleepAnalysis</td>\n",
       "      <td>AutoSleep</td>\n",
       "      <td>6.3.7</td>\n",
       "      <td>NaN</td>\n",
       "      <td>2020-03-10 12:33:13-04:00</td>\n",
       "      <td>2020-03-10 09:33:00-04:00</td>\n",
       "      <td>2020-03-10 10:09:00-04:00</td>\n",
       "      <td>HKCategoryValueSleepAnalysisAsleep</td>\n",
       "      <td>NaN</td>\n",
       "      <td>NaN</td>\n",
       "      <td>NaN</td>\n",
       "      <td>2020-03-10</td>\n",
       "      <td>2020-03-10</td>\n",
       "    </tr>\n",
       "    <tr>\n",
       "      <th>849390</th>\n",
       "      <td>HKCategoryTypeIdentifierSleepAnalysis</td>\n",
       "      <td>Clock</td>\n",
       "      <td>NaN</td>\n",
       "      <td>NaN</td>\n",
       "      <td>2020-03-11 05:55:36-04:00</td>\n",
       "      <td>2020-03-10 21:37:38-04:00</td>\n",
       "      <td>2020-03-11 05:55:31-04:00</td>\n",
       "      <td>HKCategoryValueSleepAnalysisInBed</td>\n",
       "      <td>{'@key': 'HKTimeZone', '@value': 'America/New_...</td>\n",
       "      <td>&lt;&lt;HKDevice: 0x28098fc00&gt;, name:iPhone, manufac...</td>\n",
       "      <td>NaN</td>\n",
       "      <td>2020-03-11</td>\n",
       "      <td>2020-03-10</td>\n",
       "    </tr>\n",
       "    <tr>\n",
       "      <th>849391</th>\n",
       "      <td>HKCategoryTypeIdentifierSleepAnalysis</td>\n",
       "      <td>AutoSleep</td>\n",
       "      <td>6.3.7</td>\n",
       "      <td>NaN</td>\n",
       "      <td>2020-03-11 11:53:17-04:00</td>\n",
       "      <td>2020-03-10 21:45:00-04:00</td>\n",
       "      <td>2020-03-11 06:15:00-04:00</td>\n",
       "      <td>HKCategoryValueSleepAnalysisAsleep</td>\n",
       "      <td>NaN</td>\n",
       "      <td>NaN</td>\n",
       "      <td>NaN</td>\n",
       "      <td>2020-03-11</td>\n",
       "      <td>2020-03-10</td>\n",
       "    </tr>\n",
       "    <tr>\n",
       "      <th>849392</th>\n",
       "      <td>HKCategoryTypeIdentifierSleepAnalysis</td>\n",
       "      <td>AutoSleep</td>\n",
       "      <td>6.3.7</td>\n",
       "      <td>NaN</td>\n",
       "      <td>2020-03-11 11:53:17-04:00</td>\n",
       "      <td>2020-03-10 21:37:57-04:00</td>\n",
       "      <td>2020-03-11 10:13:00-04:00</td>\n",
       "      <td>HKCategoryValueSleepAnalysisInBed</td>\n",
       "      <td>[{'@key': 'Rating', '@value': '90.21'}, {'@key...</td>\n",
       "      <td>NaN</td>\n",
       "      <td>NaN</td>\n",
       "      <td>2020-03-11</td>\n",
       "      <td>2020-03-10</td>\n",
       "    </tr>\n",
       "    <tr>\n",
       "      <th>...</th>\n",
       "      <td>...</td>\n",
       "      <td>...</td>\n",
       "      <td>...</td>\n",
       "      <td>...</td>\n",
       "      <td>...</td>\n",
       "      <td>...</td>\n",
       "      <td>...</td>\n",
       "      <td>...</td>\n",
       "      <td>...</td>\n",
       "      <td>...</td>\n",
       "      <td>...</td>\n",
       "      <td>...</td>\n",
       "      <td>...</td>\n",
       "    </tr>\n",
       "    <tr>\n",
       "      <th>849967</th>\n",
       "      <td>HKCategoryTypeIdentifierSleepAnalysis</td>\n",
       "      <td>AutoSleep</td>\n",
       "      <td>6.4.0</td>\n",
       "      <td>NaN</td>\n",
       "      <td>2020-10-01 08:31:10-04:00</td>\n",
       "      <td>2020-10-01 00:28:18-04:00</td>\n",
       "      <td>2020-10-01 08:11:00-04:00</td>\n",
       "      <td>HKCategoryValueSleepAnalysisInBed</td>\n",
       "      <td>[{'@key': 'Rating', '@value': '73.79'}, {'@key...</td>\n",
       "      <td>NaN</td>\n",
       "      <td>NaN</td>\n",
       "      <td>2020-10-01</td>\n",
       "      <td>2020-10-01</td>\n",
       "    </tr>\n",
       "    <tr>\n",
       "      <th>849968</th>\n",
       "      <td>HKCategoryTypeIdentifierSleepAnalysis</td>\n",
       "      <td>AutoSleep</td>\n",
       "      <td>6.4.0</td>\n",
       "      <td>NaN</td>\n",
       "      <td>2020-10-01 08:31:10-04:00</td>\n",
       "      <td>2020-10-01 00:37:00-04:00</td>\n",
       "      <td>2020-10-01 08:11:00-04:00</td>\n",
       "      <td>HKCategoryValueSleepAnalysisAsleep</td>\n",
       "      <td>NaN</td>\n",
       "      <td>NaN</td>\n",
       "      <td>NaN</td>\n",
       "      <td>2020-10-01</td>\n",
       "      <td>2020-10-01</td>\n",
       "    </tr>\n",
       "    <tr>\n",
       "      <th>849969</th>\n",
       "      <td>HKCategoryTypeIdentifierSleepAnalysis</td>\n",
       "      <td>Theodoreâ€™s AppleÂ Watch</td>\n",
       "      <td>7.0.1</td>\n",
       "      <td>NaN</td>\n",
       "      <td>2020-10-01 08:25:25-04:00</td>\n",
       "      <td>2020-10-01 08:12:59-04:00</td>\n",
       "      <td>2020-10-01 08:13:59-04:00</td>\n",
       "      <td>HKCategoryValueSleepAnalysisAsleep</td>\n",
       "      <td>{'@key': 'HKTimeZone', '@value': 'America/New_...</td>\n",
       "      <td>NaN</td>\n",
       "      <td>NaN</td>\n",
       "      <td>2020-10-01</td>\n",
       "      <td>2020-10-01</td>\n",
       "    </tr>\n",
       "    <tr>\n",
       "      <th>849970</th>\n",
       "      <td>HKCategoryTypeIdentifierSleepAnalysis</td>\n",
       "      <td>Theodoreâ€™s AppleÂ Watch</td>\n",
       "      <td>7.0.1</td>\n",
       "      <td>NaN</td>\n",
       "      <td>2020-10-01 08:25:25-04:00</td>\n",
       "      <td>2020-10-01 08:15:59-04:00</td>\n",
       "      <td>2020-10-01 08:19:59-04:00</td>\n",
       "      <td>HKCategoryValueSleepAnalysisAsleep</td>\n",
       "      <td>{'@key': 'HKTimeZone', '@value': 'America/New_...</td>\n",
       "      <td>NaN</td>\n",
       "      <td>NaN</td>\n",
       "      <td>2020-10-01</td>\n",
       "      <td>2020-10-01</td>\n",
       "    </tr>\n",
       "    <tr>\n",
       "      <th>849971</th>\n",
       "      <td>HKCategoryTypeIdentifierSleepAnalysis</td>\n",
       "      <td>Theos IPhone</td>\n",
       "      <td>14.0</td>\n",
       "      <td>NaN</td>\n",
       "      <td>2020-10-01 08:25:26-04:00</td>\n",
       "      <td>2020-10-01 01:52:29-04:00</td>\n",
       "      <td>2020-10-01 08:25:25-04:00</td>\n",
       "      <td>HKCategoryValueSleepAnalysisInBed</td>\n",
       "      <td>{'@key': 'HKTimeZone', '@value': 'America/New_...</td>\n",
       "      <td>NaN</td>\n",
       "      <td>NaN</td>\n",
       "      <td>2020-10-01</td>\n",
       "      <td>2020-10-01</td>\n",
       "    </tr>\n",
       "  </tbody>\n",
       "</table>\n",
       "<p>584 rows × 13 columns</p>\n",
       "</div>"
      ],
      "text/plain": [
       "                                        @type                @sourceName  \\\n",
       "849386  HKCategoryTypeIdentifierSleepAnalysis                  AutoSleep   \n",
       "849389  HKCategoryTypeIdentifierSleepAnalysis                  AutoSleep   \n",
       "849390  HKCategoryTypeIdentifierSleepAnalysis                      Clock   \n",
       "849391  HKCategoryTypeIdentifierSleepAnalysis                  AutoSleep   \n",
       "849392  HKCategoryTypeIdentifierSleepAnalysis                  AutoSleep   \n",
       "...                                       ...                        ...   \n",
       "849967  HKCategoryTypeIdentifierSleepAnalysis                  AutoSleep   \n",
       "849968  HKCategoryTypeIdentifierSleepAnalysis                  AutoSleep   \n",
       "849969  HKCategoryTypeIdentifierSleepAnalysis  Theodoreâ€™s AppleÂ Watch   \n",
       "849970  HKCategoryTypeIdentifierSleepAnalysis  Theodoreâ€™s AppleÂ Watch   \n",
       "849971  HKCategoryTypeIdentifierSleepAnalysis               Theos IPhone   \n",
       "\n",
       "       @sourceVersion @unit             @creationDate  \\\n",
       "849386          6.3.7   NaN 2020-03-10 12:33:13-04:00   \n",
       "849389          6.3.7   NaN 2020-03-10 12:33:13-04:00   \n",
       "849390            NaN   NaN 2020-03-11 05:55:36-04:00   \n",
       "849391          6.3.7   NaN 2020-03-11 11:53:17-04:00   \n",
       "849392          6.3.7   NaN 2020-03-11 11:53:17-04:00   \n",
       "...               ...   ...                       ...   \n",
       "849967          6.4.0   NaN 2020-10-01 08:31:10-04:00   \n",
       "849968          6.4.0   NaN 2020-10-01 08:31:10-04:00   \n",
       "849969          7.0.1   NaN 2020-10-01 08:25:25-04:00   \n",
       "849970          7.0.1   NaN 2020-10-01 08:25:25-04:00   \n",
       "849971           14.0   NaN 2020-10-01 08:25:26-04:00   \n",
       "\n",
       "                      @startDate                  @endDate  \\\n",
       "849386 2020-03-10 05:30:00-04:00 2020-03-10 06:00:00-04:00   \n",
       "849389 2020-03-10 09:33:00-04:00 2020-03-10 10:09:00-04:00   \n",
       "849390 2020-03-10 21:37:38-04:00 2020-03-11 05:55:31-04:00   \n",
       "849391 2020-03-10 21:45:00-04:00 2020-03-11 06:15:00-04:00   \n",
       "849392 2020-03-10 21:37:57-04:00 2020-03-11 10:13:00-04:00   \n",
       "...                          ...                       ...   \n",
       "849967 2020-10-01 00:28:18-04:00 2020-10-01 08:11:00-04:00   \n",
       "849968 2020-10-01 00:37:00-04:00 2020-10-01 08:11:00-04:00   \n",
       "849969 2020-10-01 08:12:59-04:00 2020-10-01 08:13:59-04:00   \n",
       "849970 2020-10-01 08:15:59-04:00 2020-10-01 08:19:59-04:00   \n",
       "849971 2020-10-01 01:52:29-04:00 2020-10-01 08:25:25-04:00   \n",
       "\n",
       "                                    @value  \\\n",
       "849386  HKCategoryValueSleepAnalysisAsleep   \n",
       "849389  HKCategoryValueSleepAnalysisAsleep   \n",
       "849390   HKCategoryValueSleepAnalysisInBed   \n",
       "849391  HKCategoryValueSleepAnalysisAsleep   \n",
       "849392   HKCategoryValueSleepAnalysisInBed   \n",
       "...                                    ...   \n",
       "849967   HKCategoryValueSleepAnalysisInBed   \n",
       "849968  HKCategoryValueSleepAnalysisAsleep   \n",
       "849969  HKCategoryValueSleepAnalysisAsleep   \n",
       "849970  HKCategoryValueSleepAnalysisAsleep   \n",
       "849971   HKCategoryValueSleepAnalysisInBed   \n",
       "\n",
       "                                            MetadataEntry  \\\n",
       "849386                                                NaN   \n",
       "849389                                                NaN   \n",
       "849390  {'@key': 'HKTimeZone', '@value': 'America/New_...   \n",
       "849391                                                NaN   \n",
       "849392  [{'@key': 'Rating', '@value': '90.21'}, {'@key...   \n",
       "...                                                   ...   \n",
       "849967  [{'@key': 'Rating', '@value': '73.79'}, {'@key...   \n",
       "849968                                                NaN   \n",
       "849969  {'@key': 'HKTimeZone', '@value': 'America/New_...   \n",
       "849970  {'@key': 'HKTimeZone', '@value': 'America/New_...   \n",
       "849971  {'@key': 'HKTimeZone', '@value': 'America/New_...   \n",
       "\n",
       "                                                  @device  \\\n",
       "849386                                                NaN   \n",
       "849389                                                NaN   \n",
       "849390  <<HKDevice: 0x28098fc00>, name:iPhone, manufac...   \n",
       "849391                                                NaN   \n",
       "849392                                                NaN   \n",
       "...                                                   ...   \n",
       "849967                                                NaN   \n",
       "849968                                                NaN   \n",
       "849969                                                NaN   \n",
       "849970                                                NaN   \n",
       "849971                                                NaN   \n",
       "\n",
       "       HeartRateVariabilityMetadataList @creationDateOnly @startDateOnly  \n",
       "849386                              NaN        2020-03-10     2020-03-10  \n",
       "849389                              NaN        2020-03-10     2020-03-10  \n",
       "849390                              NaN        2020-03-11     2020-03-10  \n",
       "849391                              NaN        2020-03-11     2020-03-10  \n",
       "849392                              NaN        2020-03-11     2020-03-10  \n",
       "...                                 ...               ...            ...  \n",
       "849967                              NaN        2020-10-01     2020-10-01  \n",
       "849968                              NaN        2020-10-01     2020-10-01  \n",
       "849969                              NaN        2020-10-01     2020-10-01  \n",
       "849970                              NaN        2020-10-01     2020-10-01  \n",
       "849971                              NaN        2020-10-01     2020-10-01  \n",
       "\n",
       "[584 rows x 13 columns]"
      ]
     },
     "execution_count": 19,
     "metadata": {},
     "output_type": "execute_result"
    }
   ],
   "source": [
    "sleepduration"
   ]
  },
  {
   "cell_type": "code",
   "execution_count": 20,
   "metadata": {},
   "outputs": [
    {
     "data": {
      "text/plain": [
       "<AxesSubplot:>"
      ]
     },
     "execution_count": 20,
     "metadata": {},
     "output_type": "execute_result"
    },
    {
     "data": {
      "image/png": "[encoded data removed]",
      "text/plain": [
       "<Figure size 1440x360 with 1 Axes>"
      ]
     },
     "metadata": {
      "needs_background": "light"
     },
     "output_type": "display_data"
    }
   ],
   "source": [
    "sleepduration.plot(kind='bar',figsize=(20,5))"
   ]
  },
  {
   "cell_type": "code",
   "execution_count": 21,
   "metadata": {},
   "outputs": [],
   "source": [
    "sleepduration.to_csv('sleepduration_by_start.csv')"
   ]
  },
  {
   "cell_type": "code",
   "execution_count": null,
   "metadata": {},
   "outputs": [],
   "source": []
  }
 ],
 "metadata": {
  "kernelspec": {
   "display_name": "Python 3",
   "language": "python",
   "name": "python3"
  },
  "language_info": {
   "codemirror_mode": {
    "name": "ipython",
    "version": 3
   },
   "file_extension": ".py",
   "mimetype": "text/x-python",
   "name": "python",
   "nbconvert_exporter": "python",
   "pygments_lexer": "ipython3",
   "version": "3.8.6"
  }
 },
 "nbformat": 4,
 "nbformat_minor": 4
}
