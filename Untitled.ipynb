{
 "cells": [
  {
   "cell_type": "code",
   "execution_count": 3,
   "metadata": {},
   "outputs": [],
   "source": [
    "import pandas as pd\n",
    "import xmltodict\n",
    "input_path = './data/apple_health_export/export.xml'\n",
    "\n",
    "with open(input_path, 'r') as xml_file:\n",
    "    input_data = xmltodict.parse(xml_file.read())\n",
    "    \n"
   ]
  },
  {
   "cell_type": "code",
   "execution_count": 24,
   "metadata": {},
   "outputs": [],
   "source": [
    "records_list = input_data['HealthData']['Record']\n",
    "workout_list = input_data['HealthData']['Workout']"
   ]
  },
  {
   "cell_type": "code",
   "execution_count": 5,
   "metadata": {},
   "outputs": [],
   "source": [
    "df = pd.DataFrame(records_list)"
   ]
  },
  {
   "cell_type": "code",
   "execution_count": 8,
   "metadata": {},
   "outputs": [
    {
     "data": {
      "text/plain": [
       "Index(['@type', '@sourceName', '@sourceVersion', '@unit', '@creationDate',\n",
       "       '@startDate', '@endDate', '@value', 'MetadataEntry', '@device',\n",
       "       'HeartRateVariabilityMetadataList'],\n",
       "      dtype='object')"
      ]
     },
     "execution_count": 8,
     "metadata": {},
     "output_type": "execute_result"
    }
   ],
   "source": [
    "df.columns"
   ]
  },
  {
   "cell_type": "code",
   "execution_count": 22,
   "metadata": {},
   "outputs": [
    {
     "data": {
      "text/plain": [
       "array(['Theos IPhone', 'Health', 'Theodoreâ€™s AppleÂ\\xa0Watch', 'Clock',\n",
       "       'AutoSleep'], dtype=object)"
      ]
     },
     "execution_count": 22,
     "metadata": {},
     "output_type": "execute_result"
    }
   ],
   "source": [
    "df['@sourceName'].unique()"
   ]
  },
  {
   "cell_type": "code",
   "execution_count": 23,
   "metadata": {},
   "outputs": [
    {
     "data": {
      "text/plain": [
       "array(['HKQuantityTypeIdentifierHeight',\n",
       "       'HKQuantityTypeIdentifierBodyMass',\n",
       "       'HKQuantityTypeIdentifierHeartRate',\n",
       "       'HKQuantityTypeIdentifierStepCount',\n",
       "       'HKQuantityTypeIdentifierDistanceWalkingRunning',\n",
       "       'HKQuantityTypeIdentifierBasalEnergyBurned',\n",
       "       'HKQuantityTypeIdentifierActiveEnergyBurned',\n",
       "       'HKQuantityTypeIdentifierFlightsClimbed',\n",
       "       'HKQuantityTypeIdentifierAppleExerciseTime',\n",
       "       'HKQuantityTypeIdentifierDistanceCycling',\n",
       "       'HKQuantityTypeIdentifierRestingHeartRate',\n",
       "       'HKQuantityTypeIdentifierWalkingHeartRateAverage',\n",
       "       'HKQuantityTypeIdentifierEnvironmentalAudioExposure',\n",
       "       'HKQuantityTypeIdentifierHeadphoneAudioExposure',\n",
       "       'HKQuantityTypeIdentifierWalkingDoubleSupportPercentage',\n",
       "       'HKQuantityTypeIdentifierAppleStandTime',\n",
       "       'HKQuantityTypeIdentifierWalkingSpeed',\n",
       "       'HKQuantityTypeIdentifierWalkingStepLength',\n",
       "       'HKQuantityTypeIdentifierWalkingAsymmetryPercentage',\n",
       "       'HKQuantityTypeIdentifierStairAscentSpeed',\n",
       "       'HKQuantityTypeIdentifierStairDescentSpeed',\n",
       "       'HKDataTypeSleepDurationGoal',\n",
       "       'HKCategoryTypeIdentifierSleepAnalysis',\n",
       "       'HKCategoryTypeIdentifierAppleStandHour',\n",
       "       'HKQuantityTypeIdentifierHeartRateVariabilitySDNN'], dtype=object)"
      ]
     },
     "execution_count": 23,
     "metadata": {},
     "output_type": "execute_result"
    }
   ],
   "source": [
    "df['@type'].unique()"
   ]
  },
  {
   "cell_type": "code",
   "execution_count": null,
   "metadata": {},
   "outputs": [],
   "source": [
    "df = df[df['@sourceName'] != 'Health']"
   ]
  },
  {
   "cell_type": "code",
   "execution_count": 19,
   "metadata": {},
   "outputs": [],
   "source": [
    "step_counts = df[df['@type'] == 'HKQuantityTypeIdentifierStepCount']\n",
    "format = '%Y-%m-%d %H:%M:%S %z'\n",
    "df['@creationDate'] = pd.to_datetime(df['@creationDate'],\n",
    "                                     format=format)\n",
    "df['@startDate'] = pd.to_datetime(df['@startDate'],\n",
    "                                  format=format)\n",
    "df['@endDate'] = pd.to_datetime(df['@endDate'],\n",
    "                                format=format)"
   ]
  },
  {
   "cell_type": "code",
   "execution_count": 20,
   "metadata": {},
   "outputs": [],
   "source": [
    "step_counts.loc[:, '@value'] = pd.to_numeric(\n",
    "    step_counts.loc[:, '@value'])"
   ]
  },
  {
   "cell_type": "code",
   "execution_count": 21,
   "metadata": {},
   "outputs": [
    {
     "data": {
      "text/plain": [
       "@type                                                               object\n",
       "@sourceName                                                         object\n",
       "@sourceVersion                                                      object\n",
       "@unit                                                               object\n",
       "@creationDate                       datetime64[ns, pytz.FixedOffset(-240)]\n",
       "@startDate                          datetime64[ns, pytz.FixedOffset(-240)]\n",
       "@endDate                            datetime64[ns, pytz.FixedOffset(-240)]\n",
       "@value                                                               int64\n",
       "MetadataEntry                                                       object\n",
       "@device                                                             object\n",
       "HeartRateVariabilityMetadataList                                    object\n",
       "dtype: object"
      ]
     },
     "execution_count": 21,
     "metadata": {},
     "output_type": "execute_result"
    }
   ],
   "source": [
    "step_counts.dtypes"
   ]
  },
  {
   "cell_type": "code",
   "execution_count": null,
   "metadata": {},
   "outputs": [],
   "source": []
  },
  {
   "cell_type": "code",
   "execution_count": 25,
   "metadata": {},
   "outputs": [],
   "source": [
    "df = pd.DataFrame(workout_list)"
   ]
  },
  {
   "cell_type": "code",
   "execution_count": 26,
   "metadata": {},
   "outputs": [
    {
     "data": {
      "text/plain": [
       "Index(['@workoutActivityType', '@duration', '@durationUnit', '@totalDistance',\n",
       "       '@totalDistanceUnit', '@totalEnergyBurned', '@totalEnergyBurnedUnit',\n",
       "       '@sourceName', '@sourceVersion', '@device', '@creationDate',\n",
       "       '@startDate', '@endDate', 'MetadataEntry', 'WorkoutEvent',\n",
       "       'WorkoutRoute'],\n",
       "      dtype='object')"
      ]
     },
     "execution_count": 26,
     "metadata": {},
     "output_type": "execute_result"
    }
   ],
   "source": [
    "df.columns"
   ]
  },
  {
   "cell_type": "code",
   "execution_count": 28,
   "metadata": {},
   "outputs": [
    {
     "data": {
      "text/plain": [
       "@workoutActivityType      72\n",
       "@duration                 72\n",
       "@durationUnit             72\n",
       "@totalDistance            72\n",
       "@totalDistanceUnit        72\n",
       "@totalEnergyBurned        72\n",
       "@totalEnergyBurnedUnit    72\n",
       "@sourceName               72\n",
       "@sourceVersion            72\n",
       "@device                   72\n",
       "@creationDate             72\n",
       "@startDate                72\n",
       "@endDate                  72\n",
       "MetadataEntry             72\n",
       "WorkoutEvent              27\n",
       "WorkoutRoute              18\n",
       "dtype: int64"
      ]
     },
     "execution_count": 28,
     "metadata": {},
     "output_type": "execute_result"
    }
   ],
   "source": [
    "df.count()"
   ]
  }
 ],
 "metadata": {
  "kernelspec": {
   "display_name": "Python 3",
   "language": "python",
   "name": "python3"
  },
  "language_info": {
   "codemirror_mode": {
    "name": "ipython",
    "version": 3
   },
   "file_extension": ".py",
   "mimetype": "text/x-python",
   "name": "python",
   "nbconvert_exporter": "python",
   "pygments_lexer": "ipython3",
   "version": "3.8.6"
  }
 },
 "nbformat": 4,
 "nbformat_minor": 4
}
