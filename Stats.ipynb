{
 "cells": [
  {
   "cell_type": "code",
   "execution_count": 54,
   "metadata": {},
   "outputs": [],
   "source": [
    "import pandas as pd\n",
    "import xmltodict\n",
    "input_path = './data/apple_health_export/export.xml'\n",
    "\n",
    "with open(input_path, 'r') as xml_file:\n",
    "    input_data = xmltodict.parse(xml_file.read())\n",
    "    \n"
   ]
  },
  {
   "cell_type": "code",
   "execution_count": 56,
   "metadata": {},
   "outputs": [],
   "source": [
    "records_list = input_data['HealthData']['Record']"
   ]
  },
  {
   "cell_type": "code",
   "execution_count": 57,
   "metadata": {},
   "outputs": [],
   "source": [
    "df = pd.DataFrame(records_list)"
   ]
  },
  {
   "cell_type": "code",
   "execution_count": 59,
   "metadata": {},
   "outputs": [
    {
     "data": {
      "text/plain": [
       "Index(['@type', '@sourceName', '@sourceVersion', '@unit', '@creationDate',\n",
       "       '@startDate', '@endDate', '@value', 'MetadataEntry', '@device',\n",
       "       'HeartRateVariabilityMetadataList'],\n",
       "      dtype='object')"
      ]
     },
     "execution_count": 59,
     "metadata": {},
     "output_type": "execute_result"
    }
   ],
   "source": [
    "df.columns"
   ]
  },
  {
   "cell_type": "code",
   "execution_count": 60,
   "metadata": {},
   "outputs": [
    {
     "data": {
      "text/plain": [
       "array(['HKQuantityTypeIdentifierHeight',\n",
       "       'HKQuantityTypeIdentifierBodyMass',\n",
       "       'HKQuantityTypeIdentifierHeartRate',\n",
       "       'HKQuantityTypeIdentifierStepCount',\n",
       "       'HKQuantityTypeIdentifierDistanceWalkingRunning',\n",
       "       'HKQuantityTypeIdentifierBasalEnergyBurned',\n",
       "       'HKQuantityTypeIdentifierActiveEnergyBurned',\n",
       "       'HKQuantityTypeIdentifierFlightsClimbed',\n",
       "       'HKQuantityTypeIdentifierAppleExerciseTime',\n",
       "       'HKQuantityTypeIdentifierDistanceCycling',\n",
       "       'HKQuantityTypeIdentifierRestingHeartRate',\n",
       "       'HKQuantityTypeIdentifierWalkingHeartRateAverage',\n",
       "       'HKQuantityTypeIdentifierEnvironmentalAudioExposure',\n",
       "       'HKQuantityTypeIdentifierHeadphoneAudioExposure',\n",
       "       'HKQuantityTypeIdentifierWalkingDoubleSupportPercentage',\n",
       "       'HKQuantityTypeIdentifierAppleStandTime',\n",
       "       'HKQuantityTypeIdentifierWalkingSpeed',\n",
       "       'HKQuantityTypeIdentifierWalkingStepLength',\n",
       "       'HKQuantityTypeIdentifierWalkingAsymmetryPercentage',\n",
       "       'HKQuantityTypeIdentifierStairAscentSpeed',\n",
       "       'HKQuantityTypeIdentifierStairDescentSpeed',\n",
       "       'HKDataTypeSleepDurationGoal',\n",
       "       'HKCategoryTypeIdentifierSleepAnalysis',\n",
       "       'HKCategoryTypeIdentifierAppleStandHour',\n",
       "       'HKQuantityTypeIdentifierHeartRateVariabilitySDNN'], dtype=object)"
      ]
     },
     "execution_count": 60,
     "metadata": {},
     "output_type": "execute_result"
    }
   ],
   "source": [
    "df['@type'].unique()"
   ]
  },
  {
   "cell_type": "code",
   "execution_count": 63,
   "metadata": {},
   "outputs": [],
   "source": [
    "heart_rate = df[df['@type'] == 'HKQuantityTypeIdentifierHeartRate']\n",
    "calories = df[(df['@type'] == 'HKQuantityTypeIdentifierBasalEnergyBurned') | (df['@type'] == 'HKQuantityTypeIdentifierActiveEnergyBurned')]\n",
    "distance = df[(df['@type'] == 'HKQuantityTypeIdentifierDistanceWalkingRunning')]\n",
    "distance_biking = df[(df['@type'] == 'HKQuantityTypeIdentifierDistanceCycling')]\n",
    "walking_speed =  df[(df['@type'] == 'HKQuantityTypeIdentifierWalkingSpeed')]\n",
    "walking_step_length =  df[(df['@type'] == 'HKQuantityTypeIdentifierWalkingStepLength')]\n",
    "resting_heart_rate =  df[(df['@type'] == 'HKQuantityTypeIdentifierRestingHeartRate')]\n",
    "walking_heart_rate =  df[(df['@type'] == 'HKQuantityTypeIdentifierWalkingHeartRateAverage')]\n",
    "flights_climbed =  df[(df['@type'] == 'HKQuantityTypeIdentifierFlightsClimbed')]\n",
    "\n",
    "format = '%Y-%m-%d %H:%M:%S %z'\n",
    "df['@creationDate'] = pd.to_datetime(df['@creationDate'],\n",
    "                                     format=format)\n",
    "df['@creationDateOnly'] = df['@creationDate'].dt.date\n",
    "df['@startDate'] = pd.to_datetime(df['@startDate'],\n",
    "                                  format=format)\n",
    "df['@endDate'] = pd.to_datetime(df['@endDate'],\n",
    "                                format=format)\n",
    "df['@startDateOnly'] = df['@startDate'].dt.date"
   ]
  },
  {
   "cell_type": "code",
   "execution_count": 79,
   "metadata": {},
   "outputs": [
    {
     "data": {
      "text/html": [
       "<div>\n",
       "<style scoped>\n",
       "    .dataframe tbody tr th:only-of-type {\n",
       "        vertical-align: middle;\n",
       "    }\n",
       "\n",
       "    .dataframe tbody tr th {\n",
       "        vertical-align: top;\n",
       "    }\n",
       "\n",
       "    .dataframe thead th {\n",
       "        text-align: right;\n",
       "    }\n",
       "</style>\n",
       "<table border=\"1\" class=\"dataframe\">\n",
       "  <thead>\n",
       "    <tr style=\"text-align: right;\">\n",
       "      <th></th>\n",
       "      <th>@type</th>\n",
       "      <th>@sourceName</th>\n",
       "      <th>@sourceVersion</th>\n",
       "      <th>@unit</th>\n",
       "      <th>@creationDate</th>\n",
       "      <th>@startDate</th>\n",
       "      <th>@endDate</th>\n",
       "      <th>@value</th>\n",
       "      <th>MetadataEntry</th>\n",
       "      <th>@device</th>\n",
       "      <th>HeartRateVariabilityMetadataList</th>\n",
       "      <th>@creationDateOnly</th>\n",
       "      <th>@startDateOnly</th>\n",
       "    </tr>\n",
       "  </thead>\n",
       "  <tbody>\n",
       "    <tr>\n",
       "      <th>519909</th>\n",
       "      <td>HKQuantityTypeIdentifierActiveEnergyBurned</td>\n",
       "      <td>Theodoreâ€™s AppleÂ Watch</td>\n",
       "      <td>6.1.3</td>\n",
       "      <td>Cal</td>\n",
       "      <td>2020-04-05 00:02:11-04:00</td>\n",
       "      <td>2020-04-05 00:00:03-04:00</td>\n",
       "      <td>2020-04-05 00:01:04-04:00</td>\n",
       "      <td>0.795</td>\n",
       "      <td>NaN</td>\n",
       "      <td>&lt;&lt;HKDevice: 0x2809dc190&gt;, name:Apple Watch, ma...</td>\n",
       "      <td>NaN</td>\n",
       "      <td>2020-04-05</td>\n",
       "      <td>2020-04-05</td>\n",
       "    </tr>\n",
       "    <tr>\n",
       "      <th>519910</th>\n",
       "      <td>HKQuantityTypeIdentifierActiveEnergyBurned</td>\n",
       "      <td>Theodoreâ€™s AppleÂ Watch</td>\n",
       "      <td>6.1.3</td>\n",
       "      <td>Cal</td>\n",
       "      <td>2020-04-05 00:02:11-04:00</td>\n",
       "      <td>2020-04-05 00:01:04-04:00</td>\n",
       "      <td>2020-04-05 00:01:56-04:00</td>\n",
       "      <td>0.285</td>\n",
       "      <td>NaN</td>\n",
       "      <td>&lt;&lt;HKDevice: 0x2809dc190&gt;, name:Apple Watch, ma...</td>\n",
       "      <td>NaN</td>\n",
       "      <td>2020-04-05</td>\n",
       "      <td>2020-04-05</td>\n",
       "    </tr>\n",
       "    <tr>\n",
       "      <th>519911</th>\n",
       "      <td>HKQuantityTypeIdentifierActiveEnergyBurned</td>\n",
       "      <td>Theodoreâ€™s AppleÂ Watch</td>\n",
       "      <td>6.1.3</td>\n",
       "      <td>Cal</td>\n",
       "      <td>2020-04-05 00:03:11-04:00</td>\n",
       "      <td>2020-04-05 00:01:56-04:00</td>\n",
       "      <td>2020-04-05 00:02:06-04:00</td>\n",
       "      <td>0.109</td>\n",
       "      <td>NaN</td>\n",
       "      <td>&lt;&lt;HKDevice: 0x2809dc190&gt;, name:Apple Watch, ma...</td>\n",
       "      <td>NaN</td>\n",
       "      <td>2020-04-05</td>\n",
       "      <td>2020-04-05</td>\n",
       "    </tr>\n",
       "    <tr>\n",
       "      <th>519912</th>\n",
       "      <td>HKQuantityTypeIdentifierActiveEnergyBurned</td>\n",
       "      <td>Theodoreâ€™s AppleÂ Watch</td>\n",
       "      <td>6.1.3</td>\n",
       "      <td>Cal</td>\n",
       "      <td>2020-04-05 10:48:58-04:00</td>\n",
       "      <td>2020-04-05 10:48:36-04:00</td>\n",
       "      <td>2020-04-05 10:48:46-04:00</td>\n",
       "      <td>0.049</td>\n",
       "      <td>NaN</td>\n",
       "      <td>&lt;&lt;HKDevice: 0x2809dc190&gt;, name:Apple Watch, ma...</td>\n",
       "      <td>NaN</td>\n",
       "      <td>2020-04-05</td>\n",
       "      <td>2020-04-05</td>\n",
       "    </tr>\n",
       "    <tr>\n",
       "      <th>519913</th>\n",
       "      <td>HKQuantityTypeIdentifierActiveEnergyBurned</td>\n",
       "      <td>Theodoreâ€™s AppleÂ Watch</td>\n",
       "      <td>6.1.3</td>\n",
       "      <td>Cal</td>\n",
       "      <td>2020-04-05 10:50:40-04:00</td>\n",
       "      <td>2020-04-05 10:48:46-04:00</td>\n",
       "      <td>2020-04-05 10:49:27-04:00</td>\n",
       "      <td>0.162</td>\n",
       "      <td>NaN</td>\n",
       "      <td>&lt;&lt;HKDevice: 0x2809dc190&gt;, name:Apple Watch, ma...</td>\n",
       "      <td>NaN</td>\n",
       "      <td>2020-04-05</td>\n",
       "      <td>2020-04-05</td>\n",
       "    </tr>\n",
       "    <tr>\n",
       "      <th>...</th>\n",
       "      <td>...</td>\n",
       "      <td>...</td>\n",
       "      <td>...</td>\n",
       "      <td>...</td>\n",
       "      <td>...</td>\n",
       "      <td>...</td>\n",
       "      <td>...</td>\n",
       "      <td>...</td>\n",
       "      <td>...</td>\n",
       "      <td>...</td>\n",
       "      <td>...</td>\n",
       "      <td>...</td>\n",
       "      <td>...</td>\n",
       "    </tr>\n",
       "    <tr>\n",
       "      <th>322700</th>\n",
       "      <td>HKQuantityTypeIdentifierBasalEnergyBurned</td>\n",
       "      <td>Theodoreâ€™s AppleÂ Watch</td>\n",
       "      <td>6.1.3</td>\n",
       "      <td>Cal</td>\n",
       "      <td>2020-07-05 10:28:12-04:00</td>\n",
       "      <td>2020-04-05 23:39:09-04:00</td>\n",
       "      <td>2020-04-05 23:44:20-04:00</td>\n",
       "      <td>6.163</td>\n",
       "      <td>[{'@key': 'HKMetadataKeySyncVersion', '@value'...</td>\n",
       "      <td>&lt;&lt;HKDevice: 0x2809c6d50&gt;, name:Apple Watch, ma...</td>\n",
       "      <td>NaN</td>\n",
       "      <td>2020-07-05</td>\n",
       "      <td>2020-04-05</td>\n",
       "    </tr>\n",
       "    <tr>\n",
       "      <th>322701</th>\n",
       "      <td>HKQuantityTypeIdentifierBasalEnergyBurned</td>\n",
       "      <td>Theodoreâ€™s AppleÂ Watch</td>\n",
       "      <td>6.1.3</td>\n",
       "      <td>Cal</td>\n",
       "      <td>2020-07-05 10:28:12-04:00</td>\n",
       "      <td>2020-04-05 23:44:20-04:00</td>\n",
       "      <td>2020-04-05 23:49:25-04:00</td>\n",
       "      <td>6.183</td>\n",
       "      <td>[{'@key': 'HKMetadataKeySyncVersion', '@value'...</td>\n",
       "      <td>&lt;&lt;HKDevice: 0x2809c6d50&gt;, name:Apple Watch, ma...</td>\n",
       "      <td>NaN</td>\n",
       "      <td>2020-07-05</td>\n",
       "      <td>2020-04-05</td>\n",
       "    </tr>\n",
       "    <tr>\n",
       "      <th>322702</th>\n",
       "      <td>HKQuantityTypeIdentifierBasalEnergyBurned</td>\n",
       "      <td>Theodoreâ€™s AppleÂ Watch</td>\n",
       "      <td>6.1.3</td>\n",
       "      <td>Cal</td>\n",
       "      <td>2020-07-05 10:28:12-04:00</td>\n",
       "      <td>2020-04-05 23:49:25-04:00</td>\n",
       "      <td>2020-04-05 23:54:30-04:00</td>\n",
       "      <td>6.188</td>\n",
       "      <td>[{'@key': 'HKMetadataKeySyncVersion', '@value'...</td>\n",
       "      <td>&lt;&lt;HKDevice: 0x2809c6d50&gt;, name:Apple Watch, ma...</td>\n",
       "      <td>NaN</td>\n",
       "      <td>2020-07-05</td>\n",
       "      <td>2020-04-05</td>\n",
       "    </tr>\n",
       "    <tr>\n",
       "      <th>322703</th>\n",
       "      <td>HKQuantityTypeIdentifierBasalEnergyBurned</td>\n",
       "      <td>Theodoreâ€™s AppleÂ Watch</td>\n",
       "      <td>6.1.3</td>\n",
       "      <td>Cal</td>\n",
       "      <td>2020-07-05 10:28:12-04:00</td>\n",
       "      <td>2020-04-05 23:54:30-04:00</td>\n",
       "      <td>2020-04-05 23:59:35-04:00</td>\n",
       "      <td>6.103</td>\n",
       "      <td>[{'@key': 'HKMetadataKeySyncVersion', '@value'...</td>\n",
       "      <td>&lt;&lt;HKDevice: 0x2809c6d50&gt;, name:Apple Watch, ma...</td>\n",
       "      <td>NaN</td>\n",
       "      <td>2020-07-05</td>\n",
       "      <td>2020-04-05</td>\n",
       "    </tr>\n",
       "    <tr>\n",
       "      <th>322704</th>\n",
       "      <td>HKQuantityTypeIdentifierBasalEnergyBurned</td>\n",
       "      <td>Theodoreâ€™s AppleÂ Watch</td>\n",
       "      <td>6.1.3</td>\n",
       "      <td>Cal</td>\n",
       "      <td>2020-07-05 10:28:12-04:00</td>\n",
       "      <td>2020-04-05 23:59:35-04:00</td>\n",
       "      <td>2020-04-06 00:04:40-04:00</td>\n",
       "      <td>6.158</td>\n",
       "      <td>[{'@key': 'HKMetadataKeySyncVersion', '@value'...</td>\n",
       "      <td>&lt;&lt;HKDevice: 0x2809c6d50&gt;, name:Apple Watch, ma...</td>\n",
       "      <td>NaN</td>\n",
       "      <td>2020-07-05</td>\n",
       "      <td>2020-04-05</td>\n",
       "    </tr>\n",
       "  </tbody>\n",
       "</table>\n",
       "<p>820 rows × 13 columns</p>\n",
       "</div>"
      ],
      "text/plain": [
       "                                             @type                @sourceName  \\\n",
       "519909  HKQuantityTypeIdentifierActiveEnergyBurned  Theodoreâ€™s AppleÂ Watch   \n",
       "519910  HKQuantityTypeIdentifierActiveEnergyBurned  Theodoreâ€™s AppleÂ Watch   \n",
       "519911  HKQuantityTypeIdentifierActiveEnergyBurned  Theodoreâ€™s AppleÂ Watch   \n",
       "519912  HKQuantityTypeIdentifierActiveEnergyBurned  Theodoreâ€™s AppleÂ Watch   \n",
       "519913  HKQuantityTypeIdentifierActiveEnergyBurned  Theodoreâ€™s AppleÂ Watch   \n",
       "...                                            ...                        ...   \n",
       "322700   HKQuantityTypeIdentifierBasalEnergyBurned  Theodoreâ€™s AppleÂ Watch   \n",
       "322701   HKQuantityTypeIdentifierBasalEnergyBurned  Theodoreâ€™s AppleÂ Watch   \n",
       "322702   HKQuantityTypeIdentifierBasalEnergyBurned  Theodoreâ€™s AppleÂ Watch   \n",
       "322703   HKQuantityTypeIdentifierBasalEnergyBurned  Theodoreâ€™s AppleÂ Watch   \n",
       "322704   HKQuantityTypeIdentifierBasalEnergyBurned  Theodoreâ€™s AppleÂ Watch   \n",
       "\n",
       "       @sourceVersion @unit             @creationDate  \\\n",
       "519909          6.1.3   Cal 2020-04-05 00:02:11-04:00   \n",
       "519910          6.1.3   Cal 2020-04-05 00:02:11-04:00   \n",
       "519911          6.1.3   Cal 2020-04-05 00:03:11-04:00   \n",
       "519912          6.1.3   Cal 2020-04-05 10:48:58-04:00   \n",
       "519913          6.1.3   Cal 2020-04-05 10:50:40-04:00   \n",
       "...               ...   ...                       ...   \n",
       "322700          6.1.3   Cal 2020-07-05 10:28:12-04:00   \n",
       "322701          6.1.3   Cal 2020-07-05 10:28:12-04:00   \n",
       "322702          6.1.3   Cal 2020-07-05 10:28:12-04:00   \n",
       "322703          6.1.3   Cal 2020-07-05 10:28:12-04:00   \n",
       "322704          6.1.3   Cal 2020-07-05 10:28:12-04:00   \n",
       "\n",
       "                      @startDate                  @endDate  @value  \\\n",
       "519909 2020-04-05 00:00:03-04:00 2020-04-05 00:01:04-04:00   0.795   \n",
       "519910 2020-04-05 00:01:04-04:00 2020-04-05 00:01:56-04:00   0.285   \n",
       "519911 2020-04-05 00:01:56-04:00 2020-04-05 00:02:06-04:00   0.109   \n",
       "519912 2020-04-05 10:48:36-04:00 2020-04-05 10:48:46-04:00   0.049   \n",
       "519913 2020-04-05 10:48:46-04:00 2020-04-05 10:49:27-04:00   0.162   \n",
       "...                          ...                       ...     ...   \n",
       "322700 2020-04-05 23:39:09-04:00 2020-04-05 23:44:20-04:00   6.163   \n",
       "322701 2020-04-05 23:44:20-04:00 2020-04-05 23:49:25-04:00   6.183   \n",
       "322702 2020-04-05 23:49:25-04:00 2020-04-05 23:54:30-04:00   6.188   \n",
       "322703 2020-04-05 23:54:30-04:00 2020-04-05 23:59:35-04:00   6.103   \n",
       "322704 2020-04-05 23:59:35-04:00 2020-04-06 00:04:40-04:00   6.158   \n",
       "\n",
       "                                            MetadataEntry  \\\n",
       "519909                                                NaN   \n",
       "519910                                                NaN   \n",
       "519911                                                NaN   \n",
       "519912                                                NaN   \n",
       "519913                                                NaN   \n",
       "...                                                   ...   \n",
       "322700  [{'@key': 'HKMetadataKeySyncVersion', '@value'...   \n",
       "322701  [{'@key': 'HKMetadataKeySyncVersion', '@value'...   \n",
       "322702  [{'@key': 'HKMetadataKeySyncVersion', '@value'...   \n",
       "322703  [{'@key': 'HKMetadataKeySyncVersion', '@value'...   \n",
       "322704  [{'@key': 'HKMetadataKeySyncVersion', '@value'...   \n",
       "\n",
       "                                                  @device  \\\n",
       "519909  <<HKDevice: 0x2809dc190>, name:Apple Watch, ma...   \n",
       "519910  <<HKDevice: 0x2809dc190>, name:Apple Watch, ma...   \n",
       "519911  <<HKDevice: 0x2809dc190>, name:Apple Watch, ma...   \n",
       "519912  <<HKDevice: 0x2809dc190>, name:Apple Watch, ma...   \n",
       "519913  <<HKDevice: 0x2809dc190>, name:Apple Watch, ma...   \n",
       "...                                                   ...   \n",
       "322700  <<HKDevice: 0x2809c6d50>, name:Apple Watch, ma...   \n",
       "322701  <<HKDevice: 0x2809c6d50>, name:Apple Watch, ma...   \n",
       "322702  <<HKDevice: 0x2809c6d50>, name:Apple Watch, ma...   \n",
       "322703  <<HKDevice: 0x2809c6d50>, name:Apple Watch, ma...   \n",
       "322704  <<HKDevice: 0x2809c6d50>, name:Apple Watch, ma...   \n",
       "\n",
       "       HeartRateVariabilityMetadataList @creationDateOnly @startDateOnly  \n",
       "519909                              NaN        2020-04-05     2020-04-05  \n",
       "519910                              NaN        2020-04-05     2020-04-05  \n",
       "519911                              NaN        2020-04-05     2020-04-05  \n",
       "519912                              NaN        2020-04-05     2020-04-05  \n",
       "519913                              NaN        2020-04-05     2020-04-05  \n",
       "...                                 ...               ...            ...  \n",
       "322700                              NaN        2020-07-05     2020-04-05  \n",
       "322701                              NaN        2020-07-05     2020-04-05  \n",
       "322702                              NaN        2020-07-05     2020-04-05  \n",
       "322703                              NaN        2020-07-05     2020-04-05  \n",
       "322704                              NaN        2020-07-05     2020-04-05  \n",
       "\n",
       "[820 rows x 13 columns]"
      ]
     },
     "execution_count": 79,
     "metadata": {},
     "output_type": "execute_result"
    }
   ],
   "source": [
    "pd.set_option('display.max_rows', 40)\n",
    "calories[calories['@startDateOnly'] == pd.to_datetime('2020-04-05')].sort_values(['@type','@startDate'])\n"
   ]
  },
  {
   "cell_type": "code",
   "execution_count": 65,
   "metadata": {},
   "outputs": [
    {
     "data": {
      "text/plain": [
       "array([], dtype=object)"
      ]
     },
     "execution_count": 65,
     "metadata": {},
     "output_type": "execute_result"
    }
   ],
   "source": [
    "pd.set_option('display.max_rows', 15)\n",
    "calories[calories['@value'] == 66.921]['@startDateOnly'].unique()"
   ]
  },
  {
   "cell_type": "code",
   "execution_count": 66,
   "metadata": {},
   "outputs": [
    {
     "data": {
      "text/html": [
       "<div>\n",
       "<style scoped>\n",
       "    .dataframe tbody tr th:only-of-type {\n",
       "        vertical-align: middle;\n",
       "    }\n",
       "\n",
       "    .dataframe tbody tr th {\n",
       "        vertical-align: top;\n",
       "    }\n",
       "\n",
       "    .dataframe thead th {\n",
       "        text-align: right;\n",
       "    }\n",
       "</style>\n",
       "<table border=\"1\" class=\"dataframe\">\n",
       "  <thead>\n",
       "    <tr style=\"text-align: right;\">\n",
       "      <th></th>\n",
       "      <th>@type</th>\n",
       "      <th>@sourceName</th>\n",
       "      <th>@sourceVersion</th>\n",
       "      <th>@unit</th>\n",
       "      <th>@creationDate</th>\n",
       "      <th>@startDate</th>\n",
       "      <th>@endDate</th>\n",
       "      <th>@value</th>\n",
       "      <th>MetadataEntry</th>\n",
       "      <th>@device</th>\n",
       "      <th>HeartRateVariabilityMetadataList</th>\n",
       "      <th>@creationDateOnly</th>\n",
       "      <th>@startDateOnly</th>\n",
       "    </tr>\n",
       "  </thead>\n",
       "  <tbody>\n",
       "    <tr>\n",
       "      <th>307569</th>\n",
       "      <td>HKQuantityTypeIdentifierBasalEnergyBurned</td>\n",
       "      <td>Theodoreâ€™s AppleÂ Watch</td>\n",
       "      <td>6.1.3</td>\n",
       "      <td>Cal</td>\n",
       "      <td>2020-05-06 11:27:28-04:00</td>\n",
       "      <td>2020-05-06 00:01:05-04:00</td>\n",
       "      <td>2020-05-06 01:01:05-04:00</td>\n",
       "      <td>66.921</td>\n",
       "      <td>NaN</td>\n",
       "      <td>&lt;&lt;HKDevice: 0x28098eb70&gt;, name:Apple Watch, ma...</td>\n",
       "      <td>NaN</td>\n",
       "      <td>2020-05-06</td>\n",
       "      <td>2020-05-06</td>\n",
       "    </tr>\n",
       "    <tr>\n",
       "      <th>307570</th>\n",
       "      <td>HKQuantityTypeIdentifierBasalEnergyBurned</td>\n",
       "      <td>Theodoreâ€™s AppleÂ Watch</td>\n",
       "      <td>6.1.3</td>\n",
       "      <td>Cal</td>\n",
       "      <td>2020-05-06 11:27:28-04:00</td>\n",
       "      <td>2020-05-06 01:01:05-04:00</td>\n",
       "      <td>2020-05-06 02:01:05-04:00</td>\n",
       "      <td>66.921</td>\n",
       "      <td>NaN</td>\n",
       "      <td>&lt;&lt;HKDevice: 0x28098eb70&gt;, name:Apple Watch, ma...</td>\n",
       "      <td>NaN</td>\n",
       "      <td>2020-05-06</td>\n",
       "      <td>2020-05-06</td>\n",
       "    </tr>\n",
       "    <tr>\n",
       "      <th>307571</th>\n",
       "      <td>HKQuantityTypeIdentifierBasalEnergyBurned</td>\n",
       "      <td>Theodoreâ€™s AppleÂ Watch</td>\n",
       "      <td>6.1.3</td>\n",
       "      <td>Cal</td>\n",
       "      <td>2020-05-06 11:27:28-04:00</td>\n",
       "      <td>2020-05-06 02:01:05-04:00</td>\n",
       "      <td>2020-05-06 03:01:05-04:00</td>\n",
       "      <td>66.921</td>\n",
       "      <td>NaN</td>\n",
       "      <td>&lt;&lt;HKDevice: 0x28098eb70&gt;, name:Apple Watch, ma...</td>\n",
       "      <td>NaN</td>\n",
       "      <td>2020-05-06</td>\n",
       "      <td>2020-05-06</td>\n",
       "    </tr>\n",
       "    <tr>\n",
       "      <th>307572</th>\n",
       "      <td>HKQuantityTypeIdentifierBasalEnergyBurned</td>\n",
       "      <td>Theodoreâ€™s AppleÂ Watch</td>\n",
       "      <td>6.1.3</td>\n",
       "      <td>Cal</td>\n",
       "      <td>2020-05-06 11:27:28-04:00</td>\n",
       "      <td>2020-05-06 03:01:05-04:00</td>\n",
       "      <td>2020-05-06 04:01:05-04:00</td>\n",
       "      <td>66.921</td>\n",
       "      <td>NaN</td>\n",
       "      <td>&lt;&lt;HKDevice: 0x28098eb70&gt;, name:Apple Watch, ma...</td>\n",
       "      <td>NaN</td>\n",
       "      <td>2020-05-06</td>\n",
       "      <td>2020-05-06</td>\n",
       "    </tr>\n",
       "    <tr>\n",
       "      <th>307573</th>\n",
       "      <td>HKQuantityTypeIdentifierBasalEnergyBurned</td>\n",
       "      <td>Theodoreâ€™s AppleÂ Watch</td>\n",
       "      <td>6.1.3</td>\n",
       "      <td>Cal</td>\n",
       "      <td>2020-05-06 11:27:28-04:00</td>\n",
       "      <td>2020-05-06 04:01:05-04:00</td>\n",
       "      <td>2020-05-06 05:01:05-04:00</td>\n",
       "      <td>66.921</td>\n",
       "      <td>NaN</td>\n",
       "      <td>&lt;&lt;HKDevice: 0x28098eb70&gt;, name:Apple Watch, ma...</td>\n",
       "      <td>NaN</td>\n",
       "      <td>2020-05-06</td>\n",
       "      <td>2020-05-06</td>\n",
       "    </tr>\n",
       "    <tr>\n",
       "      <th>...</th>\n",
       "      <td>...</td>\n",
       "      <td>...</td>\n",
       "      <td>...</td>\n",
       "      <td>...</td>\n",
       "      <td>...</td>\n",
       "      <td>...</td>\n",
       "      <td>...</td>\n",
       "      <td>...</td>\n",
       "      <td>...</td>\n",
       "      <td>...</td>\n",
       "      <td>...</td>\n",
       "      <td>...</td>\n",
       "      <td>...</td>\n",
       "    </tr>\n",
       "    <tr>\n",
       "      <th>540676</th>\n",
       "      <td>HKQuantityTypeIdentifierActiveEnergyBurned</td>\n",
       "      <td>Theodoreâ€™s AppleÂ Watch</td>\n",
       "      <td>6.1.3</td>\n",
       "      <td>Cal</td>\n",
       "      <td>2020-05-06 23:07:09-04:00</td>\n",
       "      <td>2020-05-06 23:06:08-04:00</td>\n",
       "      <td>2020-05-06 23:06:49-04:00</td>\n",
       "      <td>0.072</td>\n",
       "      <td>NaN</td>\n",
       "      <td>&lt;&lt;HKDevice: 0x2809c6e90&gt;, name:Apple Watch, ma...</td>\n",
       "      <td>NaN</td>\n",
       "      <td>2020-05-06</td>\n",
       "      <td>2020-05-06</td>\n",
       "    </tr>\n",
       "    <tr>\n",
       "      <th>540677</th>\n",
       "      <td>HKQuantityTypeIdentifierActiveEnergyBurned</td>\n",
       "      <td>Theodoreâ€™s AppleÂ Watch</td>\n",
       "      <td>6.1.3</td>\n",
       "      <td>Cal</td>\n",
       "      <td>2020-05-06 23:08:02-04:00</td>\n",
       "      <td>2020-05-06 23:06:49-04:00</td>\n",
       "      <td>2020-05-06 23:07:00-04:00</td>\n",
       "      <td>0.036</td>\n",
       "      <td>NaN</td>\n",
       "      <td>&lt;&lt;HKDevice: 0x2809c6e90&gt;, name:Apple Watch, ma...</td>\n",
       "      <td>NaN</td>\n",
       "      <td>2020-05-06</td>\n",
       "      <td>2020-05-06</td>\n",
       "    </tr>\n",
       "    <tr>\n",
       "      <th>540678</th>\n",
       "      <td>HKQuantityTypeIdentifierActiveEnergyBurned</td>\n",
       "      <td>Theodoreâ€™s AppleÂ Watch</td>\n",
       "      <td>6.1.3</td>\n",
       "      <td>Cal</td>\n",
       "      <td>2020-05-06 23:09:36-04:00</td>\n",
       "      <td>2020-05-06 23:07:00-04:00</td>\n",
       "      <td>2020-05-06 23:07:10-04:00</td>\n",
       "      <td>0.01</td>\n",
       "      <td>NaN</td>\n",
       "      <td>&lt;&lt;HKDevice: 0x2809c6e90&gt;, name:Apple Watch, ma...</td>\n",
       "      <td>NaN</td>\n",
       "      <td>2020-05-06</td>\n",
       "      <td>2020-05-06</td>\n",
       "    </tr>\n",
       "    <tr>\n",
       "      <th>540679</th>\n",
       "      <td>HKQuantityTypeIdentifierActiveEnergyBurned</td>\n",
       "      <td>Theodoreâ€™s AppleÂ Watch</td>\n",
       "      <td>6.1.3</td>\n",
       "      <td>Cal</td>\n",
       "      <td>2020-05-06 23:14:00-04:00</td>\n",
       "      <td>2020-05-06 23:09:44-04:00</td>\n",
       "      <td>2020-05-06 23:10:04-04:00</td>\n",
       "      <td>0.07</td>\n",
       "      <td>NaN</td>\n",
       "      <td>&lt;&lt;HKDevice: 0x2809c6e90&gt;, name:Apple Watch, ma...</td>\n",
       "      <td>NaN</td>\n",
       "      <td>2020-05-06</td>\n",
       "      <td>2020-05-06</td>\n",
       "    </tr>\n",
       "    <tr>\n",
       "      <th>540680</th>\n",
       "      <td>HKQuantityTypeIdentifierActiveEnergyBurned</td>\n",
       "      <td>Theodoreâ€™s AppleÂ Watch</td>\n",
       "      <td>6.1.3</td>\n",
       "      <td>Cal</td>\n",
       "      <td>2020-05-06 23:46:00-04:00</td>\n",
       "      <td>2020-05-06 23:41:02-04:00</td>\n",
       "      <td>2020-05-06 23:41:22-04:00</td>\n",
       "      <td>0.104</td>\n",
       "      <td>NaN</td>\n",
       "      <td>&lt;&lt;HKDevice: 0x2809c6e90&gt;, name:Apple Watch, ma...</td>\n",
       "      <td>NaN</td>\n",
       "      <td>2020-05-06</td>\n",
       "      <td>2020-05-06</td>\n",
       "    </tr>\n",
       "  </tbody>\n",
       "</table>\n",
       "<p>376 rows × 13 columns</p>\n",
       "</div>"
      ],
      "text/plain": [
       "                                             @type                @sourceName  \\\n",
       "307569   HKQuantityTypeIdentifierBasalEnergyBurned  Theodoreâ€™s AppleÂ Watch   \n",
       "307570   HKQuantityTypeIdentifierBasalEnergyBurned  Theodoreâ€™s AppleÂ Watch   \n",
       "307571   HKQuantityTypeIdentifierBasalEnergyBurned  Theodoreâ€™s AppleÂ Watch   \n",
       "307572   HKQuantityTypeIdentifierBasalEnergyBurned  Theodoreâ€™s AppleÂ Watch   \n",
       "307573   HKQuantityTypeIdentifierBasalEnergyBurned  Theodoreâ€™s AppleÂ Watch   \n",
       "...                                            ...                        ...   \n",
       "540676  HKQuantityTypeIdentifierActiveEnergyBurned  Theodoreâ€™s AppleÂ Watch   \n",
       "540677  HKQuantityTypeIdentifierActiveEnergyBurned  Theodoreâ€™s AppleÂ Watch   \n",
       "540678  HKQuantityTypeIdentifierActiveEnergyBurned  Theodoreâ€™s AppleÂ Watch   \n",
       "540679  HKQuantityTypeIdentifierActiveEnergyBurned  Theodoreâ€™s AppleÂ Watch   \n",
       "540680  HKQuantityTypeIdentifierActiveEnergyBurned  Theodoreâ€™s AppleÂ Watch   \n",
       "\n",
       "       @sourceVersion @unit             @creationDate  \\\n",
       "307569          6.1.3   Cal 2020-05-06 11:27:28-04:00   \n",
       "307570          6.1.3   Cal 2020-05-06 11:27:28-04:00   \n",
       "307571          6.1.3   Cal 2020-05-06 11:27:28-04:00   \n",
       "307572          6.1.3   Cal 2020-05-06 11:27:28-04:00   \n",
       "307573          6.1.3   Cal 2020-05-06 11:27:28-04:00   \n",
       "...               ...   ...                       ...   \n",
       "540676          6.1.3   Cal 2020-05-06 23:07:09-04:00   \n",
       "540677          6.1.3   Cal 2020-05-06 23:08:02-04:00   \n",
       "540678          6.1.3   Cal 2020-05-06 23:09:36-04:00   \n",
       "540679          6.1.3   Cal 2020-05-06 23:14:00-04:00   \n",
       "540680          6.1.3   Cal 2020-05-06 23:46:00-04:00   \n",
       "\n",
       "                      @startDate                  @endDate  @value  \\\n",
       "307569 2020-05-06 00:01:05-04:00 2020-05-06 01:01:05-04:00  66.921   \n",
       "307570 2020-05-06 01:01:05-04:00 2020-05-06 02:01:05-04:00  66.921   \n",
       "307571 2020-05-06 02:01:05-04:00 2020-05-06 03:01:05-04:00  66.921   \n",
       "307572 2020-05-06 03:01:05-04:00 2020-05-06 04:01:05-04:00  66.921   \n",
       "307573 2020-05-06 04:01:05-04:00 2020-05-06 05:01:05-04:00  66.921   \n",
       "...                          ...                       ...     ...   \n",
       "540676 2020-05-06 23:06:08-04:00 2020-05-06 23:06:49-04:00   0.072   \n",
       "540677 2020-05-06 23:06:49-04:00 2020-05-06 23:07:00-04:00   0.036   \n",
       "540678 2020-05-06 23:07:00-04:00 2020-05-06 23:07:10-04:00    0.01   \n",
       "540679 2020-05-06 23:09:44-04:00 2020-05-06 23:10:04-04:00    0.07   \n",
       "540680 2020-05-06 23:41:02-04:00 2020-05-06 23:41:22-04:00   0.104   \n",
       "\n",
       "       MetadataEntry                                            @device  \\\n",
       "307569           NaN  <<HKDevice: 0x28098eb70>, name:Apple Watch, ma...   \n",
       "307570           NaN  <<HKDevice: 0x28098eb70>, name:Apple Watch, ma...   \n",
       "307571           NaN  <<HKDevice: 0x28098eb70>, name:Apple Watch, ma...   \n",
       "307572           NaN  <<HKDevice: 0x28098eb70>, name:Apple Watch, ma...   \n",
       "307573           NaN  <<HKDevice: 0x28098eb70>, name:Apple Watch, ma...   \n",
       "...              ...                                                ...   \n",
       "540676           NaN  <<HKDevice: 0x2809c6e90>, name:Apple Watch, ma...   \n",
       "540677           NaN  <<HKDevice: 0x2809c6e90>, name:Apple Watch, ma...   \n",
       "540678           NaN  <<HKDevice: 0x2809c6e90>, name:Apple Watch, ma...   \n",
       "540679           NaN  <<HKDevice: 0x2809c6e90>, name:Apple Watch, ma...   \n",
       "540680           NaN  <<HKDevice: 0x2809c6e90>, name:Apple Watch, ma...   \n",
       "\n",
       "       HeartRateVariabilityMetadataList @creationDateOnly @startDateOnly  \n",
       "307569                              NaN        2020-05-06     2020-05-06  \n",
       "307570                              NaN        2020-05-06     2020-05-06  \n",
       "307571                              NaN        2020-05-06     2020-05-06  \n",
       "307572                              NaN        2020-05-06     2020-05-06  \n",
       "307573                              NaN        2020-05-06     2020-05-06  \n",
       "...                                 ...               ...            ...  \n",
       "540676                              NaN        2020-05-06     2020-05-06  \n",
       "540677                              NaN        2020-05-06     2020-05-06  \n",
       "540678                              NaN        2020-05-06     2020-05-06  \n",
       "540679                              NaN        2020-05-06     2020-05-06  \n",
       "540680                              NaN        2020-05-06     2020-05-06  \n",
       "\n",
       "[376 rows x 13 columns]"
      ]
     },
     "execution_count": 66,
     "metadata": {},
     "output_type": "execute_result"
    }
   ],
   "source": [
    "calories[calories['@startDateOnly'] == pd.to_datetime('2020-05-06')]"
   ]
  },
  {
   "cell_type": "code",
   "execution_count": null,
   "metadata": {},
   "outputs": [],
   "source": []
  },
  {
   "cell_type": "code",
   "execution_count": 68,
   "metadata": {},
   "outputs": [],
   "source": [
    "heart_rate.loc[:, '@value'] = pd.to_numeric(\n",
    "    heart_rate.loc[:, '@value'])\n",
    "calories.loc[:, '@value'] = pd.to_numeric(\n",
    "    calories.loc[:, '@value'])\n",
    "distance.loc[:, '@value'] = pd.to_numeric(\n",
    "    distance.loc[:, '@value'])\n",
    "distance_biking.loc[:, '@value'] = pd.to_numeric(\n",
    "    distance_biking.loc[:, '@value'])\n",
    "walking_speed.loc[:, '@value'] = pd.to_numeric(\n",
    "    walking_speed.loc[:, '@value'])\n",
    "walking_step_length.loc[:, '@value'] = pd.to_numeric(\n",
    "    walking_step_length.loc[:, '@value'])\n",
    "resting_heart_rate.loc[:, '@value'] = pd.to_numeric(\n",
    "    resting_heart_rate.loc[:, '@value'])\n",
    "walking_heart_rate.loc[:, '@value'] = pd.to_numeric(\n",
    "    walking_heart_rate.loc[:, '@value'])\n",
    "flights_climbed.loc[:, '@value'] = pd.to_numeric(\n",
    "    flights_climbed.loc[:, '@value'])"
   ]
  },
  {
   "cell_type": "code",
   "execution_count": 82,
   "metadata": {},
   "outputs": [
    {
     "data": {
      "text/plain": [
       "@type                                                               object\n",
       "@sourceName                                                         object\n",
       "@sourceVersion                                                      object\n",
       "@unit                                                               object\n",
       "@creationDate                       datetime64[ns, pytz.FixedOffset(-240)]\n",
       "@startDate                          datetime64[ns, pytz.FixedOffset(-240)]\n",
       "@endDate                            datetime64[ns, pytz.FixedOffset(-240)]\n",
       "@value                                                             float64\n",
       "MetadataEntry                                                       object\n",
       "@device                                                             object\n",
       "HeartRateVariabilityMetadataList                                    object\n",
       "@creationDateOnly                                                   object\n",
       "@startDateOnly                                                      object\n",
       "dtype: object"
      ]
     },
     "execution_count": 82,
     "metadata": {},
     "output_type": "execute_result"
    }
   ],
   "source": [
    "heart_rate.dtypes"
   ]
  },
  {
   "cell_type": "code",
   "execution_count": 70,
   "metadata": {},
   "outputs": [
    {
     "data": {
      "text/plain": [
       "@creationDate\n",
       "2020-02-29 00:00:00-04:00    2.587682e+05\n",
       "2020-03-31 00:00:00-04:00    4.855404e+05\n",
       "2020-04-30 00:00:00-04:00    3.856637e+05\n",
       "2020-05-31 00:00:00-04:00    3.518274e+05\n",
       "2020-06-30 00:00:00-04:00    4.585690e+05\n",
       "2020-07-31 00:00:00-04:00    4.378552e+06\n",
       "2020-08-31 00:00:00-04:00    2.913533e+06\n",
       "2020-09-30 00:00:00-04:00    3.265240e+06\n",
       "2020-10-31 00:00:00-04:00    1.159619e+05\n",
       "Freq: M, Name: @value, dtype: float64"
      ]
     },
     "execution_count": 70,
     "metadata": {},
     "output_type": "execute_result"
    }
   ],
   "source": [
    "heart_rate_by_creation = heart_rate.groupby('@creationDate').sum()\n",
    "heart_rate_by_creation\n",
    "by_day = heart_rate_by_creation['@value'].resample('M').sum()\n",
    "by_day\n"
   ]
  },
  {
   "cell_type": "code",
   "execution_count": 71,
   "metadata": {},
   "outputs": [
    {
     "ename": "TypeError",
     "evalue": "unsupported operand type(s) for &: 'list' and 'list'",
     "output_type": "error",
     "traceback": [
      "\u001b[1;31m---------------------------------------------------------------------------\u001b[0m",
      "\u001b[1;31mTypeError\u001b[0m                                 Traceback (most recent call last)",
      "\u001b[1;32m<ipython-input-71-158aa6d9d86d>\u001b[0m in \u001b[0;36m<module>\u001b[1;34m\u001b[0m\n\u001b[0;32m      1\u001b[0m \u001b[1;31m#pd.set_option('display.max_rows', None)\u001b[0m\u001b[1;33m\u001b[0m\u001b[1;33m\u001b[0m\u001b[1;33m\u001b[0m\u001b[0m\n\u001b[0;32m      2\u001b[0m \u001b[0mcalories_by_creation\u001b[0m \u001b[1;33m=\u001b[0m \u001b[0mcalories\u001b[0m\u001b[1;33m.\u001b[0m\u001b[0mgroupby\u001b[0m\u001b[1;33m(\u001b[0m\u001b[1;34m'@startDateOnly'\u001b[0m\u001b[1;33m)\u001b[0m\u001b[1;33m.\u001b[0m\u001b[0msum\u001b[0m\u001b[1;33m(\u001b[0m\u001b[1;33m)\u001b[0m\u001b[1;33m\u001b[0m\u001b[1;33m\u001b[0m\u001b[0m\n\u001b[1;32m----> 3\u001b[1;33m \u001b[0mcalories_by_creation\u001b[0m\u001b[1;33m[\u001b[0m\u001b[1;33m(\u001b[0m\u001b[1;33m[\u001b[0m\u001b[0mcalories_by_creation\u001b[0m\u001b[1;33m[\u001b[0m\u001b[1;34m'@value'\u001b[0m\u001b[1;33m]\u001b[0m\u001b[1;33m>\u001b[0m\u001b[1;36m2500\u001b[0m\u001b[1;33m]\u001b[0m\u001b[1;33m)\u001b[0m \u001b[1;33m&\u001b[0m \u001b[1;33m(\u001b[0m\u001b[1;33m[\u001b[0m\u001b[0mcalories_by_creation\u001b[0m\u001b[1;33m[\u001b[0m\u001b[1;34m'@value'\u001b[0m\u001b[1;33m]\u001b[0m\u001b[1;33m<\u001b[0m\u001b[1;36m3000\u001b[0m\u001b[1;33m]\u001b[0m\u001b[1;33m)\u001b[0m\u001b[1;33m]\u001b[0m\u001b[1;33m\u001b[0m\u001b[1;33m\u001b[0m\u001b[0m\n\u001b[0m",
      "\u001b[1;31mTypeError\u001b[0m: unsupported operand type(s) for &: 'list' and 'list'"
     ]
    }
   ],
   "source": [
    "#pd.set_option('display.max_rows', None)\n",
    "calories_by_creation = calories.groupby('@startDateOnly').sum()\n",
    "calories_by_creation[([calories_by_creation['@value']>2500]) & ([calories_by_creation['@value']<3000])]"
   ]
  },
  {
   "cell_type": "code",
   "execution_count": 72,
   "metadata": {},
   "outputs": [
    {
     "data": {
      "text/plain": [
       "<AxesSubplot:xlabel='@startDateOnly'>"
      ]
     },
     "execution_count": 72,
     "metadata": {},
     "output_type": "execute_result"
    },
    {
     "data": {
      "image/png": "[encoded data removed]",
      "text/plain": [
       "<Figure size 1440x360 with 1 Axes>"
      ]
     },
     "metadata": {
      "needs_background": "light"
     },
     "output_type": "display_data"
    }
   ],
   "source": [
    "calories_by_creation.plot(kind='bar',figsize=(20,5))"
   ]
  },
  {
   "cell_type": "code",
   "execution_count": 81,
   "metadata": {},
   "outputs": [
    {
     "data": {
      "text/html": [
       "<div>\n",
       "<style scoped>\n",
       "    .dataframe tbody tr th:only-of-type {\n",
       "        vertical-align: middle;\n",
       "    }\n",
       "\n",
       "    .dataframe tbody tr th {\n",
       "        vertical-align: top;\n",
       "    }\n",
       "\n",
       "    .dataframe thead th {\n",
       "        text-align: right;\n",
       "    }\n",
       "</style>\n",
       "<table border=\"1\" class=\"dataframe\">\n",
       "  <thead>\n",
       "    <tr style=\"text-align: right;\">\n",
       "      <th></th>\n",
       "      <th>@value</th>\n",
       "    </tr>\n",
       "    <tr>\n",
       "      <th>@startDateOnly</th>\n",
       "      <th></th>\n",
       "    </tr>\n",
       "  </thead>\n",
       "  <tbody>\n",
       "    <tr>\n",
       "      <th>2020-02-13</th>\n",
       "      <td>178.503</td>\n",
       "    </tr>\n",
       "    <tr>\n",
       "      <th>2020-04-25</th>\n",
       "      <td>1601.542</td>\n",
       "    </tr>\n",
       "    <tr>\n",
       "      <th>2020-05-03</th>\n",
       "      <td>1628.819</td>\n",
       "    </tr>\n",
       "    <tr>\n",
       "      <th>2020-05-04</th>\n",
       "      <td>1606.104</td>\n",
       "    </tr>\n",
       "    <tr>\n",
       "      <th>2020-05-30</th>\n",
       "      <td>1559.843</td>\n",
       "    </tr>\n",
       "    <tr>\n",
       "      <th>2020-06-07</th>\n",
       "      <td>1645.007</td>\n",
       "    </tr>\n",
       "    <tr>\n",
       "      <th>2020-06-27</th>\n",
       "      <td>1643.688</td>\n",
       "    </tr>\n",
       "    <tr>\n",
       "      <th>2020-07-15</th>\n",
       "      <td>1625.691</td>\n",
       "    </tr>\n",
       "  </tbody>\n",
       "</table>\n",
       "</div>"
      ],
      "text/plain": [
       "                  @value\n",
       "@startDateOnly          \n",
       "2020-02-13       178.503\n",
       "2020-04-25      1601.542\n",
       "2020-05-03      1628.819\n",
       "2020-05-04      1606.104\n",
       "2020-05-30      1559.843\n",
       "2020-06-07      1645.007\n",
       "2020-06-27      1643.688\n",
       "2020-07-15      1625.691"
      ]
     },
     "execution_count": 81,
     "metadata": {},
     "output_type": "execute_result"
    }
   ],
   "source": [
    "calories_by_creation[calories_by_creation['@value']<1650]"
   ]
  },
  {
   "cell_type": "code",
   "execution_count": 30,
   "metadata": {},
   "outputs": [
    {
     "data": {
      "text/plain": [
       "<AxesSubplot:xlabel='@creationDate'>"
      ]
     },
     "execution_count": 30,
     "metadata": {},
     "output_type": "execute_result"
    },
    {
     "data": {
      "image/png": "[encoded data removed]",
      "text/plain": [
       "<Figure size 432x288 with 1 Axes>"
      ]
     },
     "metadata": {
      "needs_background": "light"
     },
     "output_type": "display_data"
    }
   ],
   "source": [
    "import calendar\n",
    "\n",
    "by_day.plot(kind='bar')"
   ]
  },
  {
   "cell_type": "code",
   "execution_count": 31,
   "metadata": {},
   "outputs": [],
   "source": [
    "heart_rate_by_creation.to_csv('out.csv')"
   ]
  },
  {
   "cell_type": "code",
   "execution_count": null,
   "metadata": {},
   "outputs": [],
   "source": [
    "distance"
   ]
  },
  {
   "cell_type": "code",
   "execution_count": null,
   "metadata": {},
   "outputs": [],
   "source": [
    "distance_by_day = distance.groupby('@startDateOnly').sum()\n",
    "distance_by_day"
   ]
  },
  {
   "cell_type": "code",
   "execution_count": 106,
   "metadata": {},
   "outputs": [
    {
     "data": {
      "text/plain": [
       "<AxesSubplot:xlabel='@creationDateOnly'>"
      ]
     },
     "execution_count": 106,
     "metadata": {},
     "output_type": "execute_result"
    },
    {
     "data": {
      "image/png": "[encoded data removed]",
      "text/plain": [
       "<Figure size 1440x360 with 1 Axes>"
      ]
     },
     "metadata": {
      "needs_background": "light"
     },
     "output_type": "display_data"
    }
   ],
   "source": [
    "distance_by_day.plot(kind='bar',figsize=(20,5))"
   ]
  },
  {
   "cell_type": "code",
   "execution_count": 87,
   "metadata": {},
   "outputs": [
    {
     "data": {
      "text/html": [
       "<div>\n",
       "<style scoped>\n",
       "    .dataframe tbody tr th:only-of-type {\n",
       "        vertical-align: middle;\n",
       "    }\n",
       "\n",
       "    .dataframe tbody tr th {\n",
       "        vertical-align: top;\n",
       "    }\n",
       "\n",
       "    .dataframe thead th {\n",
       "        text-align: right;\n",
       "    }\n",
       "</style>\n",
       "<table border=\"1\" class=\"dataframe\">\n",
       "  <thead>\n",
       "    <tr style=\"text-align: right;\">\n",
       "      <th></th>\n",
       "      <th>@value</th>\n",
       "    </tr>\n",
       "    <tr>\n",
       "      <th>@creationDateOnly</th>\n",
       "      <th></th>\n",
       "    </tr>\n",
       "  </thead>\n",
       "  <tbody>\n",
       "    <tr>\n",
       "      <th>2020-05-14</th>\n",
       "      <td>0.674033</td>\n",
       "    </tr>\n",
       "    <tr>\n",
       "      <th>2020-05-17</th>\n",
       "      <td>0.952070</td>\n",
       "    </tr>\n",
       "    <tr>\n",
       "      <th>2020-05-20</th>\n",
       "      <td>1.116692</td>\n",
       "    </tr>\n",
       "    <tr>\n",
       "      <th>2020-06-14</th>\n",
       "      <td>1.765895</td>\n",
       "    </tr>\n",
       "    <tr>\n",
       "      <th>2020-06-25</th>\n",
       "      <td>0.061294</td>\n",
       "    </tr>\n",
       "    <tr>\n",
       "      <th>2020-08-07</th>\n",
       "      <td>16.246707</td>\n",
       "    </tr>\n",
       "    <tr>\n",
       "      <th>2020-08-12</th>\n",
       "      <td>5.310785</td>\n",
       "    </tr>\n",
       "    <tr>\n",
       "      <th>2020-08-18</th>\n",
       "      <td>9.952919</td>\n",
       "    </tr>\n",
       "    <tr>\n",
       "      <th>2020-08-19</th>\n",
       "      <td>4.575832</td>\n",
       "    </tr>\n",
       "    <tr>\n",
       "      <th>2020-09-13</th>\n",
       "      <td>10.368112</td>\n",
       "    </tr>\n",
       "    <tr>\n",
       "      <th>2020-09-26</th>\n",
       "      <td>9.680307</td>\n",
       "    </tr>\n",
       "    <tr>\n",
       "      <th>2020-09-28</th>\n",
       "      <td>8.658759</td>\n",
       "    </tr>\n",
       "  </tbody>\n",
       "</table>\n",
       "</div>"
      ],
      "text/plain": [
       "                      @value\n",
       "@creationDateOnly           \n",
       "2020-05-14          0.674033\n",
       "2020-05-17          0.952070\n",
       "2020-05-20          1.116692\n",
       "2020-06-14          1.765895\n",
       "2020-06-25          0.061294\n",
       "2020-08-07         16.246707\n",
       "2020-08-12          5.310785\n",
       "2020-08-18          9.952919\n",
       "2020-08-19          4.575832\n",
       "2020-09-13         10.368112\n",
       "2020-09-26          9.680307\n",
       "2020-09-28          8.658759"
      ]
     },
     "execution_count": 87,
     "metadata": {},
     "output_type": "execute_result"
    }
   ],
   "source": [
    "distance_biking_by_day = distance_biking.groupby('@startDateOnly').sum()\n",
    "distance_biking_by_day"
   ]
  },
  {
   "cell_type": "code",
   "execution_count": 88,
   "metadata": {},
   "outputs": [
    {
     "data": {
      "text/plain": [
       "<AxesSubplot:xlabel='@creationDateOnly'>"
      ]
     },
     "execution_count": 88,
     "metadata": {},
     "output_type": "execute_result"
    },
    {
     "data": {
      "image/png": "[encoded data removed]",
      "text/plain": [
       "<Figure size 432x288 with 1 Axes>"
      ]
     },
     "metadata": {
      "needs_background": "light"
     },
     "output_type": "display_data"
    }
   ],
   "source": [
    "distance_biking_by_day.plot(kind='bar')"
   ]
  },
  {
   "cell_type": "code",
   "execution_count": 114,
   "metadata": {},
   "outputs": [
    {
     "name": "stderr",
     "output_type": "stream",
     "text": [
      "<ipython-input-114-2b37098446e5>:1: FutureWarning: DataFrame.mean and DataFrame.median with numeric_only=None will include datetime64 and datetime64tz columns in a future version.\n",
      "  walking_speed.mean()\n"
     ]
    },
    {
     "data": {
      "text/plain": [
       "@value                              2.927173\n",
       "MetadataEntry                            NaN\n",
       "HeartRateVariabilityMetadataList         NaN\n",
       "dtype: float64"
      ]
     },
     "execution_count": 114,
     "metadata": {},
     "output_type": "execute_result"
    }
   ],
   "source": [
    "walking_speed.mean()"
   ]
  },
  {
   "cell_type": "code",
   "execution_count": null,
   "metadata": {},
   "outputs": [],
   "source": [
    "\n"
   ]
  },
  {
   "cell_type": "code",
   "execution_count": 90,
   "metadata": {},
   "outputs": [
    {
     "name": "stderr",
     "output_type": "stream",
     "text": [
      "<ipython-input-90-6c946ec5a505>:1: FutureWarning: DataFrame.mean and DataFrame.median with numeric_only=None will include datetime64 and datetime64tz columns in a future version.\n",
      "  walking_step_length.mean()\n"
     ]
    },
    {
     "data": {
      "text/plain": [
       "@value                              31.607022\n",
       "MetadataEntry                             NaN\n",
       "HeartRateVariabilityMetadataList          NaN\n",
       "dtype: float64"
      ]
     },
     "execution_count": 90,
     "metadata": {},
     "output_type": "execute_result"
    }
   ],
   "source": [
    "walking_step_length.mean()"
   ]
  },
  {
   "cell_type": "code",
   "execution_count": 91,
   "metadata": {},
   "outputs": [
    {
     "name": "stderr",
     "output_type": "stream",
     "text": [
      "<ipython-input-91-6c946ec5a505>:1: FutureWarning: DataFrame.mean and DataFrame.median with numeric_only=None will include datetime64 and datetime64tz columns in a future version.\n",
      "  walking_step_length.mean()\n"
     ]
    },
    {
     "data": {
      "text/plain": [
       "@value                              31.607022\n",
       "MetadataEntry                             NaN\n",
       "HeartRateVariabilityMetadataList          NaN\n",
       "dtype: float64"
      ]
     },
     "execution_count": 91,
     "metadata": {},
     "output_type": "execute_result"
    }
   ],
   "source": [
    "walking_step_length.mean()"
   ]
  },
  {
   "cell_type": "code",
   "execution_count": 92,
   "metadata": {},
   "outputs": [
    {
     "name": "stderr",
     "output_type": "stream",
     "text": [
      "<ipython-input-92-01706d0567b8>:1: FutureWarning: DataFrame.mean and DataFrame.median with numeric_only=None will include datetime64 and datetime64tz columns in a future version.\n",
      "  walking_heart_rate.mean()\n"
     ]
    },
    {
     "data": {
      "text/plain": [
       "@value                              106.182039\n",
       "MetadataEntry                              NaN\n",
       "@device                                    NaN\n",
       "HeartRateVariabilityMetadataList           NaN\n",
       "dtype: float64"
      ]
     },
     "execution_count": 92,
     "metadata": {},
     "output_type": "execute_result"
    }
   ],
   "source": [
    "walking_heart_rate.mean()\n"
   ]
  },
  {
   "cell_type": "code",
   "execution_count": 93,
   "metadata": {},
   "outputs": [
    {
     "name": "stderr",
     "output_type": "stream",
     "text": [
      "<ipython-input-93-e380c9efd988>:1: FutureWarning: DataFrame.mean and DataFrame.median with numeric_only=None will include datetime64 and datetime64tz columns in a future version.\n",
      "  resting_heart_rate.mean()\n"
     ]
    },
    {
     "data": {
      "text/plain": [
       "@value                              54.837004\n",
       "MetadataEntry                             NaN\n",
       "@device                                   NaN\n",
       "HeartRateVariabilityMetadataList          NaN\n",
       "dtype: float64"
      ]
     },
     "execution_count": 93,
     "metadata": {},
     "output_type": "execute_result"
    }
   ],
   "source": [
    "resting_heart_rate.mean()\n"
   ]
  },
  {
   "cell_type": "code",
   "execution_count": 105,
   "metadata": {},
   "outputs": [
    {
     "data": {
      "text/plain": [
       "<AxesSubplot:xlabel='@creationDateOnly'>"
      ]
     },
     "execution_count": 105,
     "metadata": {},
     "output_type": "execute_result"
    },
    {
     "data": {
      "image/png": "[encoded data removed]",
      "text/plain": [
       "<Figure size 1440x360 with 1 Axes>"
      ]
     },
     "metadata": {
      "needs_background": "light"
     },
     "output_type": "display_data"
    }
   ],
   "source": [
    "flights_climbed.groupby('@startDateOnly').sum().plot(kind='bar',figsize=(20,5))\n"
   ]
  },
  {
   "cell_type": "code",
   "execution_count": 23,
   "metadata": {},
   "outputs": [
    {
     "data": {
      "text/html": [
       "<div>\n",
       "<style scoped>\n",
       "    .dataframe tbody tr th:only-of-type {\n",
       "        vertical-align: middle;\n",
       "    }\n",
       "\n",
       "    .dataframe tbody tr th {\n",
       "        vertical-align: top;\n",
       "    }\n",
       "\n",
       "    .dataframe thead th {\n",
       "        text-align: right;\n",
       "    }\n",
       "</style>\n",
       "<table border=\"1\" class=\"dataframe\">\n",
       "  <thead>\n",
       "    <tr style=\"text-align: right;\">\n",
       "      <th></th>\n",
       "      <th>@type</th>\n",
       "      <th>@sourceName</th>\n",
       "      <th>@sourceVersion</th>\n",
       "      <th>@unit</th>\n",
       "      <th>@creationDate</th>\n",
       "      <th>@startDate</th>\n",
       "      <th>@endDate</th>\n",
       "      <th>@value</th>\n",
       "      <th>MetadataEntry</th>\n",
       "      <th>@device</th>\n",
       "      <th>HeartRateVariabilityMetadataList</th>\n",
       "      <th>@creationDateOnly</th>\n",
       "    </tr>\n",
       "  </thead>\n",
       "  <tbody>\n",
       "  </tbody>\n",
       "</table>\n",
       "</div>"
      ],
      "text/plain": [
       "Empty DataFrame\n",
       "Columns: [@type, @sourceName, @sourceVersion, @unit, @creationDate, @startDate, @endDate, @value, MetadataEntry, @device, HeartRateVariabilityMetadataList, @creationDateOnly]\n",
       "Index: []"
      ]
     },
     "execution_count": 23,
     "metadata": {},
     "output_type": "execute_result"
    }
   ],
   "source": [
    "calories[calories['@startDateOnly'] == '2020-05-05']"
   ]
  }
 ],
 "metadata": {
  "kernelspec": {
   "display_name": "Python 3",
   "language": "python",
   "name": "python3"
  },
  "language_info": {
   "codemirror_mode": {
    "name": "ipython",
    "version": 3
   },
   "file_extension": ".py",
   "mimetype": "text/x-python",
   "name": "python",
   "nbconvert_exporter": "python",
   "pygments_lexer": "ipython3",
   "version": "3.8.6"
  }
 },
 "nbformat": 4,
 "nbformat_minor": 4
}
