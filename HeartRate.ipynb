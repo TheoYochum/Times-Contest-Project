{
 "cells": [
  {
   "cell_type": "code",
   "execution_count": 1,
   "metadata": {},
   "outputs": [],
   "source": [
    "import pandas as pd\n",
    "import xmltodict\n",
    "input_path = './data/apple_health_export/export.xml'\n",
    "\n",
    "with open(input_path, 'r') as xml_file:\n",
    "    input_data = xmltodict.parse(xml_file.read())\n",
    "    \n"
   ]
  },
  {
   "cell_type": "code",
   "execution_count": 2,
   "metadata": {},
   "outputs": [],
   "source": [
    "records_list = input_data['HealthData']['Record']"
   ]
  },
  {
   "cell_type": "code",
   "execution_count": 3,
   "metadata": {},
   "outputs": [],
   "source": [
    "df = pd.DataFrame(records_list)"
   ]
  },
  {
   "cell_type": "code",
   "execution_count": 4,
   "metadata": {},
   "outputs": [
    {
     "data": {
      "text/plain": [
       "Index(['@type', '@sourceName', '@sourceVersion', '@unit', '@creationDate',\n",
       "       '@startDate', '@endDate', '@value', 'MetadataEntry', '@device',\n",
       "       'HeartRateVariabilityMetadataList'],\n",
       "      dtype='object')"
      ]
     },
     "execution_count": 4,
     "metadata": {},
     "output_type": "execute_result"
    }
   ],
   "source": [
    "df.columns"
   ]
  },
  {
   "cell_type": "code",
   "execution_count": 42,
   "metadata": {},
   "outputs": [
    {
     "data": {
      "text/plain": [
       "array(['HKQuantityTypeIdentifierHeight',\n",
       "       'HKQuantityTypeIdentifierBodyMass',\n",
       "       'HKQuantityTypeIdentifierHeartRate',\n",
       "       'HKQuantityTypeIdentifierStepCount',\n",
       "       'HKQuantityTypeIdentifierDistanceWalkingRunning',\n",
       "       'HKQuantityTypeIdentifierBasalEnergyBurned',\n",
       "       'HKQuantityTypeIdentifierActiveEnergyBurned',\n",
       "       'HKQuantityTypeIdentifierFlightsClimbed',\n",
       "       'HKQuantityTypeIdentifierAppleExerciseTime',\n",
       "       'HKQuantityTypeIdentifierDistanceCycling',\n",
       "       'HKQuantityTypeIdentifierRestingHeartRate',\n",
       "       'HKQuantityTypeIdentifierWalkingHeartRateAverage',\n",
       "       'HKQuantityTypeIdentifierEnvironmentalAudioExposure',\n",
       "       'HKQuantityTypeIdentifierHeadphoneAudioExposure',\n",
       "       'HKQuantityTypeIdentifierWalkingDoubleSupportPercentage',\n",
       "       'HKQuantityTypeIdentifierAppleStandTime',\n",
       "       'HKQuantityTypeIdentifierWalkingSpeed',\n",
       "       'HKQuantityTypeIdentifierWalkingStepLength',\n",
       "       'HKQuantityTypeIdentifierWalkingAsymmetryPercentage',\n",
       "       'HKQuantityTypeIdentifierStairAscentSpeed',\n",
       "       'HKQuantityTypeIdentifierStairDescentSpeed',\n",
       "       'HKDataTypeSleepDurationGoal',\n",
       "       'HKCategoryTypeIdentifierSleepAnalysis',\n",
       "       'HKCategoryTypeIdentifierAppleStandHour',\n",
       "       'HKQuantityTypeIdentifierHeartRateVariabilitySDNN'], dtype=object)"
      ]
     },
     "execution_count": 42,
     "metadata": {},
     "output_type": "execute_result"
    }
   ],
   "source": [
    "df['@type'].unique()"
   ]
  },
  {
   "cell_type": "code",
   "execution_count": 44,
   "metadata": {},
   "outputs": [],
   "source": [
    "heart_rate = df[df['@type'] == 'HKQuantityTypeIdentifierHeartRate']\n",
    "format = '%Y-%m-%d %H:%M:%S %z'\n",
    "df['@creationDate'] = pd.to_datetime(df['@creationDate'],\n",
    "                                     format=format)\n",
    "df['@startDate'] = pd.to_datetime(df['@startDate'],\n",
    "                                  format=format)\n",
    "df['@endDate'] = pd.to_datetime(df['@endDate'],\n",
    "                                format=format)\n",
    "df['@creationDateOnly'] = df['@creationDate'].dt.date"
   ]
  },
  {
   "cell_type": "code",
   "execution_count": 49,
   "metadata": {},
   "outputs": [],
   "source": [
    "heart_rate.loc[:, '@value'] = pd.to_numeric(\n",
    "    heart_rate.loc[:, '@value'])"
   ]
  },
  {
   "cell_type": "code",
   "execution_count": 50,
   "metadata": {},
   "outputs": [
    {
     "data": {
      "text/plain": [
       "@type                                                               object\n",
       "@sourceName                                                         object\n",
       "@sourceVersion                                                      object\n",
       "@unit                                                               object\n",
       "@creationDate                       datetime64[ns, pytz.FixedOffset(-240)]\n",
       "@startDate                          datetime64[ns, pytz.FixedOffset(-240)]\n",
       "@endDate                            datetime64[ns, pytz.FixedOffset(-240)]\n",
       "@value                                                             float64\n",
       "MetadataEntry                                                       object\n",
       "@device                                                             object\n",
       "HeartRateVariabilityMetadataList                                    object\n",
       "@creationDateOnly                                                   object\n",
       "dtype: object"
      ]
     },
     "execution_count": 50,
     "metadata": {},
     "output_type": "execute_result"
    }
   ],
   "source": [
    "heart_rate.dtypes"
   ]
  },
  {
   "cell_type": "code",
   "execution_count": 51,
   "metadata": {},
   "outputs": [
    {
     "data": {
      "text/html": [
       "<div>\n",
       "<style scoped>\n",
       "    .dataframe tbody tr th:only-of-type {\n",
       "        vertical-align: middle;\n",
       "    }\n",
       "\n",
       "    .dataframe tbody tr th {\n",
       "        vertical-align: top;\n",
       "    }\n",
       "\n",
       "    .dataframe thead th {\n",
       "        text-align: right;\n",
       "    }\n",
       "</style>\n",
       "<table border=\"1\" class=\"dataframe\">\n",
       "  <thead>\n",
       "    <tr style=\"text-align: right;\">\n",
       "      <th></th>\n",
       "      <th>@value</th>\n",
       "    </tr>\n",
       "    <tr>\n",
       "      <th>@creationDate</th>\n",
       "      <th></th>\n",
       "    </tr>\n",
       "  </thead>\n",
       "  <tbody>\n",
       "    <tr>\n",
       "      <th>2020-02-13 22:25:18-04:00</th>\n",
       "      <td>69.0</td>\n",
       "    </tr>\n",
       "    <tr>\n",
       "      <th>2020-02-13 22:30:47-04:00</th>\n",
       "      <td>77.0</td>\n",
       "    </tr>\n",
       "    <tr>\n",
       "      <th>2020-02-13 22:31:23-04:00</th>\n",
       "      <td>74.0</td>\n",
       "    </tr>\n",
       "    <tr>\n",
       "      <th>2020-02-13 22:31:27-04:00</th>\n",
       "      <td>69.0</td>\n",
       "    </tr>\n",
       "    <tr>\n",
       "      <th>2020-02-13 22:31:32-04:00</th>\n",
       "      <td>70.0</td>\n",
       "    </tr>\n",
       "    <tr>\n",
       "      <th>...</th>\n",
       "      <td>...</td>\n",
       "    </tr>\n",
       "    <tr>\n",
       "      <th>2020-10-01 18:23:11-04:00</th>\n",
       "      <td>76.0</td>\n",
       "    </tr>\n",
       "    <tr>\n",
       "      <th>2020-10-01 18:28:52-04:00</th>\n",
       "      <td>85.0</td>\n",
       "    </tr>\n",
       "    <tr>\n",
       "      <th>2020-10-01 18:32:50-04:00</th>\n",
       "      <td>75.0</td>\n",
       "    </tr>\n",
       "    <tr>\n",
       "      <th>2020-10-01 18:38:20-04:00</th>\n",
       "      <td>84.0</td>\n",
       "    </tr>\n",
       "    <tr>\n",
       "      <th>2020-10-01 18:42:25-04:00</th>\n",
       "      <td>75.0</td>\n",
       "    </tr>\n",
       "  </tbody>\n",
       "</table>\n",
       "<p>127096 rows × 1 columns</p>\n",
       "</div>"
      ],
      "text/plain": [
       "                           @value\n",
       "@creationDate                    \n",
       "2020-02-13 22:25:18-04:00    69.0\n",
       "2020-02-13 22:30:47-04:00    77.0\n",
       "2020-02-13 22:31:23-04:00    74.0\n",
       "2020-02-13 22:31:27-04:00    69.0\n",
       "2020-02-13 22:31:32-04:00    70.0\n",
       "...                           ...\n",
       "2020-10-01 18:23:11-04:00    76.0\n",
       "2020-10-01 18:28:52-04:00    85.0\n",
       "2020-10-01 18:32:50-04:00    75.0\n",
       "2020-10-01 18:38:20-04:00    84.0\n",
       "2020-10-01 18:42:25-04:00    75.0\n",
       "\n",
       "[127096 rows x 1 columns]"
      ]
     },
     "execution_count": 51,
     "metadata": {},
     "output_type": "execute_result"
    }
   ],
   "source": [
    "heart_rate_by_creation = heart_rate.groupby('@creationDate').sum()\n",
    "heart_rate_by_creation\n"
   ]
  },
  {
   "cell_type": "code",
   "execution_count": 52,
   "metadata": {},
   "outputs": [
    {
     "data": {
      "text/plain": [
       "@creationDate\n",
       "2020-02-29 00:00:00-04:00    2.587682e+05\n",
       "2020-03-31 00:00:00-04:00    4.855404e+05\n",
       "2020-04-30 00:00:00-04:00    3.856637e+05\n",
       "2020-05-31 00:00:00-04:00    3.518274e+05\n",
       "2020-06-30 00:00:00-04:00    4.585690e+05\n",
       "2020-07-31 00:00:00-04:00    4.378552e+06\n",
       "2020-08-31 00:00:00-04:00    2.913533e+06\n",
       "2020-09-30 00:00:00-04:00    3.265240e+06\n",
       "2020-10-31 00:00:00-04:00    1.159619e+05\n",
       "Freq: M, Name: @value, dtype: float64"
      ]
     },
     "execution_count": 52,
     "metadata": {},
     "output_type": "execute_result"
    }
   ],
   "source": [
    "by_day = heart_rate_by_creation['@value'].resample('M').sum()\n",
    "by_day"
   ]
  },
  {
   "cell_type": "code",
   "execution_count": 53,
   "metadata": {},
   "outputs": [
    {
     "data": {
      "text/plain": [
       "<AxesSubplot:xlabel='@creationDate'>"
      ]
     },
     "execution_count": 53,
     "metadata": {},
     "output_type": "execute_result"
    },
    {
     "data": {
      "image/png": "[encoded data removed]",
      "text/plain": [
       "<Figure size 432x288 with 1 Axes>"
      ]
     },
     "metadata": {
      "needs_background": "light"
     },
     "output_type": "display_data"
    }
   ],
   "source": [
    "import calendar\n",
    "\n",
    "by_day.plot(kind='bar')\n",
    "\n"
   ]
  },
  {
   "cell_type": "code",
   "execution_count": 54,
   "metadata": {},
   "outputs": [],
   "source": [
    "heart_rate_by_creation.to_csv('out.csv')"
   ]
  },
  {
   "cell_type": "code",
   "execution_count": 56,
   "metadata": {},
   "outputs": [
    {
     "data": {
      "text/html": [
       "<div>\n",
       "<style scoped>\n",
       "    .dataframe tbody tr th:only-of-type {\n",
       "        vertical-align: middle;\n",
       "    }\n",
       "\n",
       "    .dataframe tbody tr th {\n",
       "        vertical-align: top;\n",
       "    }\n",
       "\n",
       "    .dataframe thead th {\n",
       "        text-align: right;\n",
       "    }\n",
       "</style>\n",
       "<table border=\"1\" class=\"dataframe\">\n",
       "  <thead>\n",
       "    <tr style=\"text-align: right;\">\n",
       "      <th></th>\n",
       "      <th>@value</th>\n",
       "    </tr>\n",
       "    <tr>\n",
       "      <th>@creationDateOnly</th>\n",
       "      <th></th>\n",
       "    </tr>\n",
       "  </thead>\n",
       "  <tbody>\n",
       "    <tr>\n",
       "      <th>2020-02-13</th>\n",
       "      <td>72.375000</td>\n",
       "    </tr>\n",
       "    <tr>\n",
       "      <th>2020-02-14</th>\n",
       "      <td>72.171400</td>\n",
       "    </tr>\n",
       "    <tr>\n",
       "      <th>2020-02-15</th>\n",
       "      <td>73.341418</td>\n",
       "    </tr>\n",
       "    <tr>\n",
       "      <th>2020-02-16</th>\n",
       "      <td>90.551067</td>\n",
       "    </tr>\n",
       "    <tr>\n",
       "      <th>2020-02-17</th>\n",
       "      <td>77.331632</td>\n",
       "    </tr>\n",
       "    <tr>\n",
       "      <th>...</th>\n",
       "      <td>...</td>\n",
       "    </tr>\n",
       "    <tr>\n",
       "      <th>2020-09-27</th>\n",
       "      <td>72.816614</td>\n",
       "    </tr>\n",
       "    <tr>\n",
       "      <th>2020-09-28</th>\n",
       "      <td>107.628683</td>\n",
       "    </tr>\n",
       "    <tr>\n",
       "      <th>2020-09-29</th>\n",
       "      <td>88.305299</td>\n",
       "    </tr>\n",
       "    <tr>\n",
       "      <th>2020-09-30</th>\n",
       "      <td>65.409850</td>\n",
       "    </tr>\n",
       "    <tr>\n",
       "      <th>2020-10-01</th>\n",
       "      <td>102.079101</td>\n",
       "    </tr>\n",
       "  </tbody>\n",
       "</table>\n",
       "<p>228 rows × 1 columns</p>\n",
       "</div>"
      ],
      "text/plain": [
       "                       @value\n",
       "@creationDateOnly            \n",
       "2020-02-13          72.375000\n",
       "2020-02-14          72.171400\n",
       "2020-02-15          73.341418\n",
       "2020-02-16          90.551067\n",
       "2020-02-17          77.331632\n",
       "...                       ...\n",
       "2020-09-27          72.816614\n",
       "2020-09-28         107.628683\n",
       "2020-09-29          88.305299\n",
       "2020-09-30          65.409850\n",
       "2020-10-01         102.079101\n",
       "\n",
       "[228 rows x 1 columns]"
      ]
     },
     "execution_count": 56,
     "metadata": {},
     "output_type": "execute_result"
    }
   ],
   "source": [
    "heart_rate_mean_by_day = heart_rate.groupby('@creationDateOnly').mean()\n",
    "heart_rate_mean_by_day"
   ]
  }
 ],
 "metadata": {
  "kernelspec": {
   "display_name": "Python 3",
   "language": "python",
   "name": "python3"
  },
  "language_info": {
   "codemirror_mode": {
    "name": "ipython",
    "version": 3
   },
   "file_extension": ".py",
   "mimetype": "text/x-python",
   "name": "python",
   "nbconvert_exporter": "python",
   "pygments_lexer": "ipython3",
   "version": "3.8.6"
  }
 },
 "nbformat": 4,
 "nbformat_minor": 4
}
